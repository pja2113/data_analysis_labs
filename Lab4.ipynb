{
 "cells": [
  {
   "cell_type": "markdown",
   "id": "2ef81f46",
   "metadata": {},
   "source": [
    "<font size = 2> <B> PHILIP AUERBACH <BR>UNI: PJA2113 </B></font>"
   ]
  },
  {
   "cell_type": "markdown",
   "id": "ce93c821",
   "metadata": {},
   "source": [
    "<font size = 2> <B> Gender Beliefs and Religion </B></font><br> <B> Lab #3 </B> \n"
   ]
  },
  {
   "cell_type": "markdown",
   "id": "6db18a92",
   "metadata": {},
   "source": [
    "<b> Project Setup: </b>"
   ]
  },
  {
   "cell_type": "code",
   "execution_count": 94,
   "id": "2988f775",
   "metadata": {},
   "outputs": [
    {
     "name": "stderr",
     "output_type": "stream",
     "text": [
      "/var/folders/yk/ljnwx5m95179j3_74vk6g29r0000gn/T/ipykernel_1091/265183431.py:12: DtypeWarning: Columns (1362,1363) have mixed types. Specify dtype option on import or set low_memory=False.\n",
      "  df = pd.read_csv(url)\n"
     ]
    },
    {
     "data": {
      "text/html": [
       "<div>\n",
       "<style scoped>\n",
       "    .dataframe tbody tr th:only-of-type {\n",
       "        vertical-align: middle;\n",
       "    }\n",
       "\n",
       "    .dataframe tbody tr th {\n",
       "        vertical-align: top;\n",
       "    }\n",
       "\n",
       "    .dataframe thead th {\n",
       "        text-align: right;\n",
       "    }\n",
       "</style>\n",
       "<table border=\"1\" class=\"dataframe\">\n",
       "  <thead>\n",
       "    <tr style=\"text-align: right;\">\n",
       "      <th></th>\n",
       "      <th>cname_qog</th>\n",
       "      <th>cname</th>\n",
       "      <th>year</th>\n",
       "      <th>ccodecow</th>\n",
       "      <th>ccodealp</th>\n",
       "      <th>ccodealp_year</th>\n",
       "      <th>ccode_qog</th>\n",
       "      <th>cname_year</th>\n",
       "      <th>ccode</th>\n",
       "      <th>aid_cpnc</th>\n",
       "      <th>...</th>\n",
       "      <th>yri_fem40</th>\n",
       "      <th>yri_fem4160</th>\n",
       "      <th>yri_fem61</th>\n",
       "      <th>yri_meanage</th>\n",
       "      <th>yri_medianage</th>\n",
       "      <th>yri_mp30</th>\n",
       "      <th>yri_mp35</th>\n",
       "      <th>yri_mp40</th>\n",
       "      <th>yri_mp4160</th>\n",
       "      <th>yri_mp61</th>\n",
       "    </tr>\n",
       "  </thead>\n",
       "  <tbody>\n",
       "    <tr>\n",
       "      <th>0</th>\n",
       "      <td>Afghanistan</td>\n",
       "      <td>Afghanistan</td>\n",
       "      <td>1946</td>\n",
       "      <td>700.0</td>\n",
       "      <td>AFG</td>\n",
       "      <td>AFG46</td>\n",
       "      <td>4</td>\n",
       "      <td>Afghanistan 1946</td>\n",
       "      <td>4.0</td>\n",
       "      <td>NaN</td>\n",
       "      <td>...</td>\n",
       "      <td>NaN</td>\n",
       "      <td>NaN</td>\n",
       "      <td>NaN</td>\n",
       "      <td>NaN</td>\n",
       "      <td>NaN</td>\n",
       "      <td>NaN</td>\n",
       "      <td>NaN</td>\n",
       "      <td>NaN</td>\n",
       "      <td>NaN</td>\n",
       "      <td>NaN</td>\n",
       "    </tr>\n",
       "    <tr>\n",
       "      <th>1</th>\n",
       "      <td>Afghanistan</td>\n",
       "      <td>Afghanistan</td>\n",
       "      <td>1947</td>\n",
       "      <td>700.0</td>\n",
       "      <td>AFG</td>\n",
       "      <td>AFG47</td>\n",
       "      <td>4</td>\n",
       "      <td>Afghanistan 1947</td>\n",
       "      <td>4.0</td>\n",
       "      <td>NaN</td>\n",
       "      <td>...</td>\n",
       "      <td>NaN</td>\n",
       "      <td>NaN</td>\n",
       "      <td>NaN</td>\n",
       "      <td>NaN</td>\n",
       "      <td>NaN</td>\n",
       "      <td>NaN</td>\n",
       "      <td>NaN</td>\n",
       "      <td>NaN</td>\n",
       "      <td>NaN</td>\n",
       "      <td>NaN</td>\n",
       "    </tr>\n",
       "    <tr>\n",
       "      <th>2</th>\n",
       "      <td>Afghanistan</td>\n",
       "      <td>Afghanistan</td>\n",
       "      <td>1948</td>\n",
       "      <td>700.0</td>\n",
       "      <td>AFG</td>\n",
       "      <td>AFG48</td>\n",
       "      <td>4</td>\n",
       "      <td>Afghanistan 1948</td>\n",
       "      <td>4.0</td>\n",
       "      <td>NaN</td>\n",
       "      <td>...</td>\n",
       "      <td>NaN</td>\n",
       "      <td>NaN</td>\n",
       "      <td>NaN</td>\n",
       "      <td>NaN</td>\n",
       "      <td>NaN</td>\n",
       "      <td>NaN</td>\n",
       "      <td>NaN</td>\n",
       "      <td>NaN</td>\n",
       "      <td>NaN</td>\n",
       "      <td>NaN</td>\n",
       "    </tr>\n",
       "    <tr>\n",
       "      <th>3</th>\n",
       "      <td>Afghanistan</td>\n",
       "      <td>Afghanistan</td>\n",
       "      <td>1949</td>\n",
       "      <td>700.0</td>\n",
       "      <td>AFG</td>\n",
       "      <td>AFG49</td>\n",
       "      <td>4</td>\n",
       "      <td>Afghanistan 1949</td>\n",
       "      <td>4.0</td>\n",
       "      <td>NaN</td>\n",
       "      <td>...</td>\n",
       "      <td>NaN</td>\n",
       "      <td>NaN</td>\n",
       "      <td>NaN</td>\n",
       "      <td>NaN</td>\n",
       "      <td>NaN</td>\n",
       "      <td>NaN</td>\n",
       "      <td>NaN</td>\n",
       "      <td>NaN</td>\n",
       "      <td>NaN</td>\n",
       "      <td>NaN</td>\n",
       "    </tr>\n",
       "    <tr>\n",
       "      <th>4</th>\n",
       "      <td>Afghanistan</td>\n",
       "      <td>Afghanistan</td>\n",
       "      <td>1950</td>\n",
       "      <td>700.0</td>\n",
       "      <td>AFG</td>\n",
       "      <td>AFG50</td>\n",
       "      <td>4</td>\n",
       "      <td>Afghanistan 1950</td>\n",
       "      <td>4.0</td>\n",
       "      <td>NaN</td>\n",
       "      <td>...</td>\n",
       "      <td>NaN</td>\n",
       "      <td>NaN</td>\n",
       "      <td>NaN</td>\n",
       "      <td>NaN</td>\n",
       "      <td>NaN</td>\n",
       "      <td>NaN</td>\n",
       "      <td>NaN</td>\n",
       "      <td>NaN</td>\n",
       "      <td>NaN</td>\n",
       "      <td>NaN</td>\n",
       "    </tr>\n",
       "  </tbody>\n",
       "</table>\n",
       "<p>5 rows × 2009 columns</p>\n",
       "</div>"
      ],
      "text/plain": [
       "     cname_qog        cname  year  ccodecow ccodealp ccodealp_year  ccode_qog  \\\n",
       "0  Afghanistan  Afghanistan  1946     700.0      AFG         AFG46          4   \n",
       "1  Afghanistan  Afghanistan  1947     700.0      AFG         AFG47          4   \n",
       "2  Afghanistan  Afghanistan  1948     700.0      AFG         AFG48          4   \n",
       "3  Afghanistan  Afghanistan  1949     700.0      AFG         AFG49          4   \n",
       "4  Afghanistan  Afghanistan  1950     700.0      AFG         AFG50          4   \n",
       "\n",
       "         cname_year  ccode  aid_cpnc  ...  yri_fem40  yri_fem4160  yri_fem61  \\\n",
       "0  Afghanistan 1946    4.0       NaN  ...        NaN          NaN        NaN   \n",
       "1  Afghanistan 1947    4.0       NaN  ...        NaN          NaN        NaN   \n",
       "2  Afghanistan 1948    4.0       NaN  ...        NaN          NaN        NaN   \n",
       "3  Afghanistan 1949    4.0       NaN  ...        NaN          NaN        NaN   \n",
       "4  Afghanistan 1950    4.0       NaN  ...        NaN          NaN        NaN   \n",
       "\n",
       "   yri_meanage  yri_medianage  yri_mp30  yri_mp35  yri_mp40  yri_mp4160  \\\n",
       "0          NaN            NaN       NaN       NaN       NaN         NaN   \n",
       "1          NaN            NaN       NaN       NaN       NaN         NaN   \n",
       "2          NaN            NaN       NaN       NaN       NaN         NaN   \n",
       "3          NaN            NaN       NaN       NaN       NaN         NaN   \n",
       "4          NaN            NaN       NaN       NaN       NaN         NaN   \n",
       "\n",
       "   yri_mp61  \n",
       "0       NaN  \n",
       "1       NaN  \n",
       "2       NaN  \n",
       "3       NaN  \n",
       "4       NaN  \n",
       "\n",
       "[5 rows x 2009 columns]"
      ]
     },
     "execution_count": 94,
     "metadata": {},
     "output_type": "execute_result"
    }
   ],
   "source": [
    "# Importing packages\n",
    "import pandas as pd\n",
    "import numpy as np\n",
    "import matplotlib.pyplot as plt\n",
    "import seaborn as sns\n",
    "import statsmodels.api as sm\n",
    "import statsmodels.formula.api as smf \n",
    "import scipy.stats as stats\n",
    "\n",
    "# Grabbing Data\n",
    "url = 'https://www.qogdata.pol.gu.se/data/qog_std_ts_jan25.csv'\n",
    "df = pd.read_csv(url)\n",
    "\n",
    "# Visualize 5 first rows of data\n",
    "df.head()"
   ]
  },
  {
   "cell_type": "markdown",
   "id": "b793642a",
   "metadata": {},
   "source": [
    "<b> Question 4.1 </b> <br>\n",
    "# **1-- Run a naive OLS regression on your time series data. \n",
    "\n",
    "Tell me how you expect your Xs to affect your Y and why.  \n",
    "\n",
    " Interpret your results.**\n",
    "\n",
    "\n",
    "In the QoG file, I find a interesting Variable I wanted to explore more.    wvs_menpol \n",
    "\n",
    "For each of the following statements I read out, can you tell me how much you agree with each.\n",
    "\"Men make better political leaders than women do.\"\n"
   ]
  },
  {
   "cell_type": "code",
   "execution_count": 95,
   "id": "b18ae2fc",
   "metadata": {},
   "outputs": [
    {
     "data": {
      "text/plain": [
       "count    302.000000\n",
       "mean       2.453618\n",
       "std        0.468024\n",
       "min        1.306160\n",
       "25%        2.103288\n",
       "50%        2.459855\n",
       "75%        2.763895\n",
       "max        3.640806\n",
       "Name: wvs_menpol, dtype: float64"
      ]
     },
     "execution_count": 95,
     "metadata": {},
     "output_type": "execute_result"
    }
   ],
   "source": [
    "# Variable 1, Men make better political leaders than women do, wvs_menpol \n",
    "'''\n",
    "Do you agree strongly, agree, disagree, or disagree strongly?\n",
    "\n",
    "1 Strongly disagree\n",
    "2 Disagree\n",
    "3 Agree\n",
    "4 Strongly agree\n",
    "\n",
    "From QoG Codebook\n",
    "\n",
    "'''\n",
    "\n",
    "df['wvs_menpol'].describe()"
   ]
  },
  {
   "cell_type": "code",
   "execution_count": 96,
   "id": "0bedae6f",
   "metadata": {},
   "outputs": [
    {
     "data": {
      "text/plain": [
       "count    4424.000000\n",
       "mean        0.442360\n",
       "std         0.826765\n",
       "min         0.000000\n",
       "25%         0.000000\n",
       "50%         0.000000\n",
       "75%         0.000000\n",
       "max         2.000000\n",
       "Name: biu_offrel, dtype: float64"
      ]
     },
     "execution_count": 96,
     "metadata": {},
     "output_type": "execute_result"
    }
   ],
   "source": [
    "#Variable 2, Official Religion measurement   biu_offrel\n",
    "\n",
    "\"\"\"\n",
    "Official Religion measures whether the government has an established religion. For a religion to be established there must be a constitutional clause, a law, or the equivalent explicitly stating that a specific religion or specific religions are the official religions of that state. This variable is coded on the following scale:\n",
    "\n",
    "0 The state has no official religion\n",
    "1 The state has multiple established religions\n",
    "2 The state has one established religion\n",
    "\n",
    "\"\"\" \n",
    "df['biu_offrel'].describe()"
   ]
  },
  {
   "cell_type": "code",
   "execution_count": 97,
   "id": "60b50652",
   "metadata": {},
   "outputs": [
    {
     "data": {
      "text/plain": [
       "count    156.000000\n",
       "mean       2.834254\n",
       "std        0.775118\n",
       "min        1.343166\n",
       "25%        2.305337\n",
       "50%        2.704683\n",
       "75%        3.338695\n",
       "max        4.762500\n",
       "Name: wvs_godpol, dtype: float64"
      ]
     },
     "execution_count": 97,
     "metadata": {},
     "output_type": "execute_result"
    }
   ],
   "source": [
    "# Variable 3, Politicians who don’t believe in God are unfit for public oﬃce \n",
    "'''\n",
    "1. Strongly disagree\n",
    "2. Disagree\n",
    "3. Neutral\n",
    "4. Agree\n",
    "5. Strongly Agree\n",
    "\n",
    "From QoG Codebook\n",
    "\n",
    "'''\n",
    "df['wvs_godpol'].describe()"
   ]
  },
  {
   "cell_type": "markdown",
   "id": "1f932697",
   "metadata": {},
   "source": [
    "The dependant Variable is a fairly conservative statement. I expect to see countries that have higher beliefs in the independent variables statements to also have a higher belief in the depdent variable. "
   ]
  },
  {
   "cell_type": "code",
   "execution_count": 98,
   "id": "f32e6cb0",
   "metadata": {},
   "outputs": [
    {
     "name": "stdout",
     "output_type": "stream",
     "text": [
      "                            OLS Regression Results                            \n",
      "==============================================================================\n",
      "Dep. Variable:             wvs_menpol   R-squared:                       0.157\n",
      "Model:                            OLS   Adj. R-squared:                  0.144\n",
      "Method:                 Least Squares   F-statistic:                     12.38\n",
      "Date:                Fri, 27 Jun 2025   Prob (F-statistic):           1.17e-05\n",
      "Time:                        23:14:35   Log-Likelihood:                -67.086\n",
      "No. Observations:                 136   AIC:                             140.2\n",
      "Df Residuals:                     133   BIC:                             148.9\n",
      "Df Model:                           2                                         \n",
      "Covariance Type:            nonrobust                                         \n",
      "==============================================================================\n",
      "                 coef    std err          t      P>|t|      [0.025      0.975]\n",
      "------------------------------------------------------------------------------\n",
      "Intercept      1.9176      0.173     11.069      0.000       1.575       2.260\n",
      "biu_offrel     0.1489      0.048      3.102      0.002       0.054       0.244\n",
      "wvs_godbel     0.6624      0.197      3.360      0.001       0.272       1.052\n",
      "==============================================================================\n",
      "Omnibus:                        3.837   Durbin-Watson:                   1.581\n",
      "Prob(Omnibus):                  0.147   Jarque-Bera (JB):                3.002\n",
      "Skew:                          -0.239   Prob(JB):                        0.223\n",
      "Kurtosis:                       2.450   Cond. No.                         10.5\n",
      "==============================================================================\n",
      "\n",
      "Notes:\n",
      "[1] Standard Errors assume that the covariance matrix of the errors is correctly specified.\n"
     ]
    }
   ],
   "source": [
    "gdp1 = smf.ols(formula = 'wvs_menpol ~ biu_offrel + wvs_godbel', data = df).fit()  \n",
    "print (gdp1.summary())"
   ]
  },
  {
   "cell_type": "markdown",
   "id": "66b3ee42",
   "metadata": {},
   "source": [
    "For every one unit increase in belief that men make better politcal leaders, we see a 0.66 increase in belief that atheist politcians are unfit for public office. And we also see a small rise in religous countries. \n",
    "\n",
    "With a R^2 of 0.157 these two variables only let us predict 15.7% of all movement of of wvs_menpol. "
   ]
  },
  {
   "cell_type": "markdown",
   "id": "408911fd",
   "metadata": {},
   "source": [
    "<b> Question 4.2 </b> <br>\n",
    "Run a first differences regression on the same model in Question 1.\n",
    "Interpret your results.\n",
    "Do you draw a different conclusion than in Question 1? Explain."
   ]
  },
  {
   "cell_type": "code",
   "execution_count": 99,
   "id": "a752d2c7",
   "metadata": {},
   "outputs": [
    {
     "name": "stdout",
     "output_type": "stream",
     "text": [
      "Requirement already satisfied: linearmodels in /Users/philipauerbach/anaconda3/lib/python3.11/site-packages (6.1)\n",
      "Requirement already satisfied: numpy<3,>=1.22.3 in /Users/philipauerbach/anaconda3/lib/python3.11/site-packages (from linearmodels) (1.24.3)\n",
      "Requirement already satisfied: pandas>=1.4.0 in /Users/philipauerbach/anaconda3/lib/python3.11/site-packages (from linearmodels) (2.0.3)\n",
      "Requirement already satisfied: scipy>=1.8.0 in /Users/philipauerbach/anaconda3/lib/python3.11/site-packages (from linearmodels) (1.11.1)\n",
      "Requirement already satisfied: statsmodels>=0.13.0 in /Users/philipauerbach/anaconda3/lib/python3.11/site-packages (from linearmodels) (0.14.0)\n",
      "Requirement already satisfied: mypy-extensions>=0.4 in /Users/philipauerbach/anaconda3/lib/python3.11/site-packages (from linearmodels) (1.0.0)\n",
      "Requirement already satisfied: Cython>=3.0.10 in /Users/philipauerbach/anaconda3/lib/python3.11/site-packages (from linearmodels) (3.1.2)\n",
      "Requirement already satisfied: pyhdfe>=0.1 in /Users/philipauerbach/anaconda3/lib/python3.11/site-packages (from linearmodels) (0.2.0)\n",
      "Requirement already satisfied: formulaic>=1.0.0 in /Users/philipauerbach/anaconda3/lib/python3.11/site-packages (from linearmodels) (1.1.1)\n",
      "Requirement already satisfied: setuptools-scm[toml]<9.0.0,>=8.0.0 in /Users/philipauerbach/anaconda3/lib/python3.11/site-packages (from linearmodels) (8.3.1)\n",
      "Requirement already satisfied: interface-meta>=1.2.0 in /Users/philipauerbach/anaconda3/lib/python3.11/site-packages (from formulaic>=1.0.0->linearmodels) (1.3.0)\n",
      "Requirement already satisfied: typing-extensions>=4.2.0 in /Users/philipauerbach/anaconda3/lib/python3.11/site-packages (from formulaic>=1.0.0->linearmodels) (4.7.1)\n",
      "Requirement already satisfied: wrapt>=1.0 in /Users/philipauerbach/anaconda3/lib/python3.11/site-packages (from formulaic>=1.0.0->linearmodels) (1.14.1)\n",
      "Requirement already satisfied: python-dateutil>=2.8.2 in /Users/philipauerbach/anaconda3/lib/python3.11/site-packages (from pandas>=1.4.0->linearmodels) (2.8.2)\n",
      "Requirement already satisfied: pytz>=2020.1 in /Users/philipauerbach/anaconda3/lib/python3.11/site-packages (from pandas>=1.4.0->linearmodels) (2023.3.post1)\n",
      "Requirement already satisfied: tzdata>=2022.1 in /Users/philipauerbach/anaconda3/lib/python3.11/site-packages (from pandas>=1.4.0->linearmodels) (2023.3)\n",
      "Requirement already satisfied: packaging>=20 in /Users/philipauerbach/anaconda3/lib/python3.11/site-packages (from setuptools-scm[toml]<9.0.0,>=8.0.0->linearmodels) (23.1)\n",
      "Requirement already satisfied: setuptools in /Users/philipauerbach/anaconda3/lib/python3.11/site-packages (from setuptools-scm[toml]<9.0.0,>=8.0.0->linearmodels) (68.0.0)\n",
      "Requirement already satisfied: patsy>=0.5.2 in /Users/philipauerbach/anaconda3/lib/python3.11/site-packages (from statsmodels>=0.13.0->linearmodels) (0.5.3)\n",
      "Requirement already satisfied: six in /Users/philipauerbach/anaconda3/lib/python3.11/site-packages (from patsy>=0.5.2->statsmodels>=0.13.0->linearmodels) (1.16.0)\n"
     ]
    }
   ],
   "source": [
    "!pip install linearmodels\n",
    "\n",
    "from linearmodels.panel import FirstDifferenceOLS"
   ]
  },
  {
   "cell_type": "code",
   "execution_count": 111,
   "id": "2704be3d",
   "metadata": {},
   "outputs": [
    {
     "name": "stdout",
     "output_type": "stream",
     "text": [
      "                     FirstDifferenceOLS Estimation Summary                      \n",
      "================================================================================\n",
      "Dep. Variable:             wvs_menpol   R-squared:                        0.0252\n",
      "Estimator:         FirstDifferenceOLS   R-squared (Between):              0.0987\n",
      "No. Observations:                   8   R-squared (Within):               0.1466\n",
      "Date:                Fri, Jun 27 2025   R-squared (Overall):              0.0980\n",
      "Time:                        23:17:51   Log-likelihood                    9.6212\n",
      "Cov. Estimator:             Clustered                                           \n",
      "                                        F-statistic:                      0.0774\n",
      "Entities:                          62   P-value                           0.9264\n",
      "Avg Obs:                       1.2903   Distribution:                     F(2,6)\n",
      "Min Obs:                       1.0000                                           \n",
      "Max Obs:                       2.0000   F-statistic (robust):          2.281e+16\n",
      "                                        P-value                           0.0000\n",
      "Time periods:                      10   Distribution:                     F(2,6)\n",
      "Avg Obs:                       8.0000                                           \n",
      "Min Obs:                       1.0000                                           \n",
      "Max Obs:                       21.000                                           \n",
      "                                                                                \n",
      "                             Parameter Estimates                              \n",
      "==============================================================================\n",
      "            Parameter  Std. Err.     T-stat    P-value    Lower CI    Upper CI\n",
      "------------------------------------------------------------------------------\n",
      "biu_offrel     0.0099     0.0030     3.2659     0.0171      0.0025      0.0173\n",
      "wvs_godpol     0.0385     0.1040     0.3703     0.7238     -0.2160      0.2931\n",
      "==============================================================================\n"
     ]
    }
   ],
   "source": [
    "columns = ['ccode', 'year', 'wvs_menpol', 'biu_offrel', 'wvs_godpol']\n",
    "df1 = df[columns].dropna()\n",
    "\n",
    "# Set the MultiIndex for panel data\n",
    "df1 = df1.set_index(['ccode', 'year'])\n",
    "\n",
    "df1 = df1.loc[~df1.index.duplicated(keep='first')]\n",
    "\n",
    "# Define the dependent and independent variables\n",
    "y = df1['wvs_menpol']\n",
    "X = df1[['biu_offrel', 'wvs_godpol']]\n",
    "\n",
    "# Fit the first-differenced panel data model\n",
    "fdmodel = FirstDifferenceOLS(y, X)\n",
    "results = fdmodel.fit(cov_type='clustered', cluster_entity=True)\n",
    "\n",
    "print(results)\n"
   ]
  },
  {
   "cell_type": "markdown",
   "id": "abfe5efe",
   "metadata": {},
   "source": [
    "Running this data to see the relationship over time, leads to a different result. Here we have a much lower R^2 of 0.025"
   ]
  }
 ],
 "metadata": {
  "kernelspec": {
   "display_name": "base",
   "language": "python",
   "name": "python3"
  },
  "language_info": {
   "codemirror_mode": {
    "name": "ipython",
    "version": 3
   },
   "file_extension": ".py",
   "mimetype": "text/x-python",
   "name": "python",
   "nbconvert_exporter": "python",
   "pygments_lexer": "ipython3",
   "version": "3.11.5"
  }
 },
 "nbformat": 4,
 "nbformat_minor": 5
}
