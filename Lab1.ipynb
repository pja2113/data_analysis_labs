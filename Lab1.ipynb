{
 "cells": [
  {
   "cell_type": "markdown",
   "id": "2600852f",
   "metadata": {},
   "source": [
    "<font size = 2> <B> PHILIP AUERBACH <BR>UNI: PJA2113 </B></font>"
   ]
  },
  {
   "cell_type": "markdown",
   "id": "bdcfbcbc",
   "metadata": {},
   "source": [
    "<font size = 2> <B> Analysing Drinking Around the World </B></font><br> <B> Lab #1 </B> <br> Description of Project: <br> The goal of this project is to do some basic analysis and developt a understanding of basic functions of data analysis utilizing python and stats libraries. The project utilizes a dataset that was collected by the World Health Organization in 2010. It is a dataset that compares alcohol consumption by different countries. <br> The project data source comes from and was inspired by  https://fivethirtyeight.com/features/dear-mona-followup-where-do-people-drink-the-most-beer-wine-and-spirits/   "
   ]
  },
  {
   "cell_type": "code",
   "execution_count": null,
   "id": "39622a9b",
   "metadata": {},
   "outputs": [],
   "source": []
  },
  {
   "cell_type": "markdown",
   "id": "bfa05521",
   "metadata": {},
   "source": [
    "<font size=\"2\"> <B> IMPORTING LIBRARIES / PACKAGES </font> </B> <br> To begin this project we need to import all the relvant libraries and packages into our python environment\n"
   ]
  },
  {
   "cell_type": "code",
   "execution_count": 189,
   "id": "580c89d1",
   "metadata": {},
   "outputs": [],
   "source": [
    "from __future__ import division\n",
    "import pandas as pd\n",
    "import numpy as np \n",
    "import statsmodels.api as sm \n",
    "import statsmodels.formula.api as smf\n",
    "import os \n",
    "import matplotlib.pyplot as plt\n",
    "from scipy.stats import skew, kurtosis\n",
    "import seaborn as sns"
   ]
  },
  {
   "cell_type": "markdown",
   "id": "eb67e847",
   "metadata": {},
   "source": [
    "Next up we need to pull in our data from the fivethirtyeight github. I've added in code to verify the size file size and row, coloumn count has properly been pulled. We expect the file to be 4.28kb, 194 rows and 5 coloumns"
   ]
  },
  {
   "cell_type": "code",
   "execution_count": 190,
   "id": "40c69b43",
   "metadata": {},
   "outputs": [
    {
     "name": "stdout",
     "output_type": "stream",
     "text": [
      "\n",
      "Rows: 194\n",
      "Coloumns: 5\n"
     ]
    }
   ],
   "source": [
    "url = 'https://raw.githubusercontent.com/fivethirtyeight/data/master/alcohol-consumption/drinks.csv'\n",
    "df = pd.read_csv(url)\n",
    "rows = df.shape[0]\n",
    "cols = df.shape[1]\n",
    "print()\n",
    "print(f\"Rows: {rows+1}\") # +1 because row one starts at 0 \n",
    "print(f\"Coloumns: {cols}\")"
   ]
  },
  {
   "cell_type": "markdown",
   "id": "88781d22",
   "metadata": {},
   "source": [
    "Look at the data, and verify schema is correct"
   ]
  },
  {
   "cell_type": "code",
   "execution_count": 191,
   "id": "bee49e1f",
   "metadata": {},
   "outputs": [
    {
     "data": {
      "text/html": [
       "<div>\n",
       "<style scoped>\n",
       "    .dataframe tbody tr th:only-of-type {\n",
       "        vertical-align: middle;\n",
       "    }\n",
       "\n",
       "    .dataframe tbody tr th {\n",
       "        vertical-align: top;\n",
       "    }\n",
       "\n",
       "    .dataframe thead th {\n",
       "        text-align: right;\n",
       "    }\n",
       "</style>\n",
       "<table border=\"1\" class=\"dataframe\">\n",
       "  <thead>\n",
       "    <tr style=\"text-align: right;\">\n",
       "      <th></th>\n",
       "      <th>country</th>\n",
       "      <th>beer_servings</th>\n",
       "      <th>spirit_servings</th>\n",
       "      <th>wine_servings</th>\n",
       "      <th>total_litres_of_pure_alcohol</th>\n",
       "    </tr>\n",
       "  </thead>\n",
       "  <tbody>\n",
       "    <tr>\n",
       "      <th>0</th>\n",
       "      <td>Afghanistan</td>\n",
       "      <td>0</td>\n",
       "      <td>0</td>\n",
       "      <td>0</td>\n",
       "      <td>0.0</td>\n",
       "    </tr>\n",
       "    <tr>\n",
       "      <th>1</th>\n",
       "      <td>Albania</td>\n",
       "      <td>89</td>\n",
       "      <td>132</td>\n",
       "      <td>54</td>\n",
       "      <td>4.9</td>\n",
       "    </tr>\n",
       "    <tr>\n",
       "      <th>2</th>\n",
       "      <td>Algeria</td>\n",
       "      <td>25</td>\n",
       "      <td>0</td>\n",
       "      <td>14</td>\n",
       "      <td>0.7</td>\n",
       "    </tr>\n",
       "    <tr>\n",
       "      <th>3</th>\n",
       "      <td>Andorra</td>\n",
       "      <td>245</td>\n",
       "      <td>138</td>\n",
       "      <td>312</td>\n",
       "      <td>12.4</td>\n",
       "    </tr>\n",
       "    <tr>\n",
       "      <th>4</th>\n",
       "      <td>Angola</td>\n",
       "      <td>217</td>\n",
       "      <td>57</td>\n",
       "      <td>45</td>\n",
       "      <td>5.9</td>\n",
       "    </tr>\n",
       "  </tbody>\n",
       "</table>\n",
       "</div>"
      ],
      "text/plain": [
       "       country  beer_servings  spirit_servings  wine_servings  \\\n",
       "0  Afghanistan              0                0              0   \n",
       "1      Albania             89              132             54   \n",
       "2      Algeria             25                0             14   \n",
       "3      Andorra            245              138            312   \n",
       "4       Angola            217               57             45   \n",
       "\n",
       "   total_litres_of_pure_alcohol  \n",
       "0                           0.0  \n",
       "1                           4.9  \n",
       "2                           0.7  \n",
       "3                          12.4  \n",
       "4                           5.9  "
      ]
     },
     "execution_count": 191,
     "metadata": {},
     "output_type": "execute_result"
    }
   ],
   "source": [
    "df.head()"
   ]
  },
  {
   "cell_type": "markdown",
   "id": "520f48f7",
   "metadata": {},
   "source": [
    "<b> Question 1.1: </b> <br>\n",
    "I've descided to evaluate the Total Litres of Pure Alcohol variable."
   ]
  },
  {
   "cell_type": "code",
   "execution_count": 192,
   "id": "25df0fee",
   "metadata": {},
   "outputs": [
    {
     "data": {
      "text/plain": [
       "count    193.000000\n",
       "mean       4.717098\n",
       "std        3.773298\n",
       "min        0.000000\n",
       "25%        1.300000\n",
       "50%        4.200000\n",
       "75%        7.200000\n",
       "max       14.400000\n",
       "Name: total_litres_of_pure_alcohol, dtype: float64"
      ]
     },
     "execution_count": 192,
     "metadata": {},
     "output_type": "execute_result"
    }
   ],
   "source": [
    "df['total_litres_of_pure_alcohol'].describe()"
   ]
  },
  {
   "cell_type": "code",
   "execution_count": 193,
   "id": "00227fbd",
   "metadata": {},
   "outputs": [
    {
     "data": {
      "text/plain": [
       "<Axes: xlabel='total_litres_of_pure_alcohol', ylabel='Count'>"
      ]
     },
     "execution_count": 193,
     "metadata": {},
     "output_type": "execute_result"
    },
    {
     "data": {
      "image/png": "[encoded data removed]",
      "text/plain": [
       "<Figure size 640x480 with 1 Axes>"
      ]
     },
     "metadata": {},
     "output_type": "display_data"
    }
   ],
   "source": [
    "sns.histplot(data=df, x=\"total_litres_of_pure_alcohol\")"
   ]
  },
  {
   "cell_type": "markdown",
   "id": "e16d68d4",
   "metadata": {},
   "source": [
    "The big conclusion of this variable is that the distribution of total litres of pure alcohol consumed per person in 2010 shows a slight right skew. We can see this in the histogram, where there is a right tail. The mean is 4.72 litres, meaning that on average, a country drinks 4.72 litres per person in 2010. The median is 4.2, which explains the right skew, as higher alcohol-consuming countries are pulling the average up (mean > median). The minimum reported alcohol consumption is 0 litres, and the highest is 14.4 litres. It is unlikely that a country has no one drinking alcohol, but due to certain countries’ rules and regulations, it is likely that there is no data reported for them. The standard deviation was 3.77, which is large compared to the mean, leading us to infer that many countries drink either significantly less or significantly more than the average. When this variable is presented in histogram form, I was fairly shocked to see nearly one-third of the data bunched up at the bottom; I was expecting a more evenly distributed graph."
   ]
  },
  {
   "cell_type": "markdown",
   "id": "b88ffc6f",
   "metadata": {},
   "source": [
    "<b> Question 1.2: </b> <br>\n",
    "For this question, I will be using the continous variable beer_servings. As my data set didn't come with a usable categorical variable, i will create that variable. I will divide the previous variable of total_litres_of_pure_alcohol into heavy drinking countries and light drinking countries by using the median of 4.2 litres from our previous analysis. "
   ]
  },
  {
   "cell_type": "code",
   "execution_count": 194,
   "id": "39422496",
   "metadata": {},
   "outputs": [
    {
     "data": {
      "text/plain": [
       "heavy_drinking\n",
       "0     35.226804\n",
       "1    177.833333\n",
       "Name: beer_servings, dtype: float64"
      ]
     },
     "execution_count": 194,
     "metadata": {},
     "output_type": "execute_result"
    }
   ],
   "source": [
    "#Creating the new categorical variable\n",
    "df['heavy_drinking'] = (df['total_litres_of_pure_alcohol'] > 4.2).astype(int)\n",
    "\n",
    "#Calculate it's mean\n",
    "df.groupby(['heavy_drinking'])['beer_servings'].mean()"
   ]
  },
  {
   "cell_type": "code",
   "execution_count": 195,
   "id": "1907b7b5",
   "metadata": {},
   "outputs": [
    {
     "data": {
      "text/plain": [
       "heavy_drinking\n",
       "0    40.354034\n",
       "1    93.279395\n",
       "Name: beer_servings, dtype: float64"
      ]
     },
     "execution_count": 195,
     "metadata": {},
     "output_type": "execute_result"
    }
   ],
   "source": [
    "#Calculate it's STD\n",
    "df.groupby(['heavy_drinking'])['beer_servings'].std()"
   ]
  },
  {
   "cell_type": "code",
   "execution_count": 196,
   "id": "10d7e973",
   "metadata": {},
   "outputs": [
    {
     "data": {
      "text/plain": [
       "<Axes: xlabel='heavy_drinking', ylabel='beer_servings'>"
      ]
     },
     "execution_count": 196,
     "metadata": {},
     "output_type": "execute_result"
    },
    {
     "data": {
      "image/png": "[encoded data removed]",
      "text/plain": [
       "<Figure size 640x480 with 1 Axes>"
      ]
     },
     "metadata": {},
     "output_type": "display_data"
    }
   ],
   "source": [
    "#Creating the histogram\n",
    "sns.boxplot(data=df, x=\"heavy_drinking\", y=\"beer_servings\")"
   ]
  },
  {
   "cell_type": "markdown",
   "id": "0ceb7f4f",
   "metadata": {},
   "source": [
    "Analysis of MEAN: We can see that light drinking countries drink 35 beer servings per person, and high drinking countries drink 178 beers serving per person. So high drinking countries drinking ALOT more beer. <br>\n",
    "\n",
    "Analysis of STD: We can see that light drinking countries has a STD of 40.35, which is larger than the mean so there is a very large spread. This helps us infer that countries with low alcohol consumption have a larger range of beer consumption, some drink alot, some dont. We can see that heavy drinking countries have a STD of 93 which is roughly half of the mean, thus countries that drink alot of alcohol tend to also drink alot of beer. \n",
    "\n",
    "Analysis of Histogram: From the histogram we can see that most light drinking countries tend to mostly drink little to no beer, but there are also few outliers that show that those light drinking countries drinking alot of beer. We can see that the heavier drinking countries are drinking alot more beer with a larger range. "
   ]
  },
  {
   "cell_type": "markdown",
   "id": "a8722dd7",
   "metadata": {},
   "source": [
    "<b> Question 1.3 :</b> <br>\n",
    "For this question, I want to explore more the outliers from the light drinking countries utilizing two categorical variables of heavy_drinking and a new variable of high_beer_consumption. This allows me to see if beer comsumption helps explain why some low total alcohol countries have outliers for beer. "
   ]
  },
  {
   "cell_type": "code",
   "execution_count": 197,
   "id": "6372b7e5",
   "metadata": {},
   "outputs": [
    {
     "data": {
      "text/html": [
       "<div>\n",
       "<style scoped>\n",
       "    .dataframe tbody tr th:only-of-type {\n",
       "        vertical-align: middle;\n",
       "    }\n",
       "\n",
       "    .dataframe tbody tr th {\n",
       "        vertical-align: top;\n",
       "    }\n",
       "\n",
       "    .dataframe thead th {\n",
       "        text-align: right;\n",
       "    }\n",
       "</style>\n",
       "<table border=\"1\" class=\"dataframe\">\n",
       "  <thead>\n",
       "    <tr style=\"text-align: right;\">\n",
       "      <th>high_beer</th>\n",
       "      <th>0</th>\n",
       "      <th>1</th>\n",
       "    </tr>\n",
       "    <tr>\n",
       "      <th>heavy_drinking</th>\n",
       "      <th></th>\n",
       "      <th></th>\n",
       "    </tr>\n",
       "  </thead>\n",
       "  <tbody>\n",
       "    <tr>\n",
       "      <th>0</th>\n",
       "      <td>84.693878</td>\n",
       "      <td>14.736842</td>\n",
       "    </tr>\n",
       "    <tr>\n",
       "      <th>1</th>\n",
       "      <td>15.306122</td>\n",
       "      <td>85.263158</td>\n",
       "    </tr>\n",
       "  </tbody>\n",
       "</table>\n",
       "</div>"
      ],
      "text/plain": [
       "high_beer               0          1\n",
       "heavy_drinking                      \n",
       "0               84.693878  14.736842\n",
       "1               15.306122  85.263158"
      ]
     },
     "execution_count": 197,
     "metadata": {},
     "output_type": "execute_result"
    }
   ],
   "source": [
    "#New Variable for high beer consumption\n",
    "df['high_beer'] = (df['beer_servings'] > df['beer_servings'].median()).astype(int)\n",
    "\n",
    "#Using crosstab to evaluate them \n",
    "pd.crosstab(df.heavy_drinking, df.high_beer, normalize='columns')*100\n"
   ]
  },
  {
   "cell_type": "markdown",
   "id": "8ca2e418",
   "metadata": {},
   "source": [
    "From the cross tabulation chart, we can see that light drinking countries roughly 85%, drink a little beer and 15% drink alot of beer. This explains why we saw the outliers in the previous graph. And this is reversed for heavier drinking countries. 85% drink alot of beer and 15% drink a low amonuts of beer. "
   ]
  },
  {
   "cell_type": "markdown",
   "id": "3b55328c",
   "metadata": {},
   "source": [
    "Visualizing this relationship. "
   ]
  },
  {
   "cell_type": "code",
   "execution_count": 198,
   "id": "2471b235",
   "metadata": {},
   "outputs": [
    {
     "data": {
      "text/plain": [
       "<Axes: xlabel='high_beer'>"
      ]
     },
     "execution_count": 198,
     "metadata": {},
     "output_type": "execute_result"
    },
    {
     "data": {
      "image/png": "[encoded data removed]",
      "text/plain": [
       "<Figure size 600x500 with 1 Axes>"
      ]
     },
     "metadata": {},
     "output_type": "display_data"
    }
   ],
   "source": [
    "# Group by 'high_beer' and 'heavy_drinking', then count the occurrence\n",
    "beer_heavy_counts = df.groupby(['high_beer', 'heavy_drinking']).size()\n",
    "\n",
    "# Group by 'high_beer' only and count the occurrences\n",
    "beer_counts = df.groupby(['high_beer']).size()\n",
    "\n",
    "# Calculate the percentage\n",
    "d_pct = beer_heavy_counts / beer_counts\n",
    "\n",
    "# Unstack and plot the data\n",
    "d_pct.unstack().plot(kind='bar', stacked=True, figsize=(6,5))\n"
   ]
  },
  {
   "cell_type": "markdown",
   "id": "7b62a353",
   "metadata": {},
   "source": []
  }
 ],
 "metadata": {
  "kernelspec": {
   "display_name": "base",
   "language": "python",
   "name": "python3"
  },
  "language_info": {
   "codemirror_mode": {
    "name": "ipython",
    "version": 3
   },
   "file_extension": ".py",
   "mimetype": "text/x-python",
   "name": "python",
   "nbconvert_exporter": "python",
   "pygments_lexer": "ipython3",
   "version": "3.11.5"
  }
 },
 "nbformat": 4,
 "nbformat_minor": 5
}
