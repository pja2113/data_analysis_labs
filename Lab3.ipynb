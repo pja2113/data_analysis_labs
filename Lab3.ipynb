{
 "cells": [
  {
   "cell_type": "markdown",
   "id": "2ef81f46",
   "metadata": {},
   "source": [
    "<font size = 2> <B> PHILIP AUERBACH <BR>UNI: PJA2113 </B></font>"
   ]
  },
  {
   "cell_type": "markdown",
   "id": "ce93c821",
   "metadata": {},
   "source": [
    "<font size = 2> <B> Title Project </B></font><br> <B> Lab #3 </B> <br> Description of Project: <br> project description\n"
   ]
  },
  {
   "cell_type": "markdown",
   "id": "6db18a92",
   "metadata": {},
   "source": [
    "<b> Project Setup: </b>"
   ]
  },
  {
   "cell_type": "code",
   "execution_count": 74,
   "id": "2988f775",
   "metadata": {},
   "outputs": [
    {
     "data": {
      "text/html": [
       "<div>\n",
       "<style scoped>\n",
       "    .dataframe tbody tr th:only-of-type {\n",
       "        vertical-align: middle;\n",
       "    }\n",
       "\n",
       "    .dataframe tbody tr th {\n",
       "        vertical-align: top;\n",
       "    }\n",
       "\n",
       "    .dataframe thead th {\n",
       "        text-align: right;\n",
       "    }\n",
       "</style>\n",
       "<table border=\"1\" class=\"dataframe\">\n",
       "  <thead>\n",
       "    <tr style=\"text-align: right;\">\n",
       "      <th></th>\n",
       "      <th>cname_qog</th>\n",
       "      <th>cname</th>\n",
       "      <th>ccode_qog</th>\n",
       "      <th>ccodecow</th>\n",
       "      <th>ccodealp</th>\n",
       "      <th>ccode</th>\n",
       "      <th>aii_acc</th>\n",
       "      <th>aii_aio</th>\n",
       "      <th>aii_cilser</th>\n",
       "      <th>aii_elec</th>\n",
       "      <th>...</th>\n",
       "      <th>yri_fem40</th>\n",
       "      <th>yri_fem4160</th>\n",
       "      <th>yri_fem61</th>\n",
       "      <th>yri_meanage</th>\n",
       "      <th>yri_medianage</th>\n",
       "      <th>yri_mp30</th>\n",
       "      <th>yri_mp35</th>\n",
       "      <th>yri_mp40</th>\n",
       "      <th>yri_mp4160</th>\n",
       "      <th>yri_mp61</th>\n",
       "    </tr>\n",
       "  </thead>\n",
       "  <tbody>\n",
       "    <tr>\n",
       "      <th>0</th>\n",
       "      <td>Afghanistan</td>\n",
       "      <td>Afghanistan</td>\n",
       "      <td>4</td>\n",
       "      <td>700.0</td>\n",
       "      <td>AFG</td>\n",
       "      <td>4.0</td>\n",
       "      <td>NaN</td>\n",
       "      <td>NaN</td>\n",
       "      <td>NaN</td>\n",
       "      <td>NaN</td>\n",
       "      <td>...</td>\n",
       "      <td>NaN</td>\n",
       "      <td>NaN</td>\n",
       "      <td>NaN</td>\n",
       "      <td>NaN</td>\n",
       "      <td>NaN</td>\n",
       "      <td>NaN</td>\n",
       "      <td>NaN</td>\n",
       "      <td>NaN</td>\n",
       "      <td>NaN</td>\n",
       "      <td>NaN</td>\n",
       "    </tr>\n",
       "    <tr>\n",
       "      <th>1</th>\n",
       "      <td>Albania</td>\n",
       "      <td>Albania</td>\n",
       "      <td>8</td>\n",
       "      <td>339.0</td>\n",
       "      <td>ALB</td>\n",
       "      <td>8.0</td>\n",
       "      <td>NaN</td>\n",
       "      <td>NaN</td>\n",
       "      <td>NaN</td>\n",
       "      <td>NaN</td>\n",
       "      <td>...</td>\n",
       "      <td>20.8</td>\n",
       "      <td>75.0</td>\n",
       "      <td>4.2</td>\n",
       "      <td>51.0</td>\n",
       "      <td>51.0</td>\n",
       "      <td>0.0</td>\n",
       "      <td>5.8</td>\n",
       "      <td>15.9</td>\n",
       "      <td>72.5</td>\n",
       "      <td>11.6</td>\n",
       "    </tr>\n",
       "    <tr>\n",
       "      <th>2</th>\n",
       "      <td>Algeria</td>\n",
       "      <td>Algeria</td>\n",
       "      <td>12</td>\n",
       "      <td>615.0</td>\n",
       "      <td>DZA</td>\n",
       "      <td>12.0</td>\n",
       "      <td>12.50</td>\n",
       "      <td>5.0</td>\n",
       "      <td>12.5</td>\n",
       "      <td>8.333333</td>\n",
       "      <td>...</td>\n",
       "      <td>NaN</td>\n",
       "      <td>NaN</td>\n",
       "      <td>NaN</td>\n",
       "      <td>NaN</td>\n",
       "      <td>NaN</td>\n",
       "      <td>NaN</td>\n",
       "      <td>NaN</td>\n",
       "      <td>NaN</td>\n",
       "      <td>NaN</td>\n",
       "      <td>NaN</td>\n",
       "    </tr>\n",
       "    <tr>\n",
       "      <th>3</th>\n",
       "      <td>Andorra</td>\n",
       "      <td>Andorra</td>\n",
       "      <td>20</td>\n",
       "      <td>232.0</td>\n",
       "      <td>AND</td>\n",
       "      <td>20.0</td>\n",
       "      <td>NaN</td>\n",
       "      <td>NaN</td>\n",
       "      <td>NaN</td>\n",
       "      <td>NaN</td>\n",
       "      <td>...</td>\n",
       "      <td>7.1</td>\n",
       "      <td>78.6</td>\n",
       "      <td>14.3</td>\n",
       "      <td>48.2</td>\n",
       "      <td>48.5</td>\n",
       "      <td>3.6</td>\n",
       "      <td>14.3</td>\n",
       "      <td>17.9</td>\n",
       "      <td>71.4</td>\n",
       "      <td>10.7</td>\n",
       "    </tr>\n",
       "    <tr>\n",
       "      <th>4</th>\n",
       "      <td>Angola</td>\n",
       "      <td>Angola</td>\n",
       "      <td>24</td>\n",
       "      <td>540.0</td>\n",
       "      <td>AGO</td>\n",
       "      <td>24.0</td>\n",
       "      <td>18.75</td>\n",
       "      <td>15.0</td>\n",
       "      <td>0.0</td>\n",
       "      <td>0.000000</td>\n",
       "      <td>...</td>\n",
       "      <td>NaN</td>\n",
       "      <td>NaN</td>\n",
       "      <td>NaN</td>\n",
       "      <td>NaN</td>\n",
       "      <td>NaN</td>\n",
       "      <td>NaN</td>\n",
       "      <td>NaN</td>\n",
       "      <td>NaN</td>\n",
       "      <td>NaN</td>\n",
       "      <td>NaN</td>\n",
       "    </tr>\n",
       "  </tbody>\n",
       "</table>\n",
       "<p>5 rows × 1641 columns</p>\n",
       "</div>"
      ],
      "text/plain": [
       "     cname_qog        cname  ccode_qog  ccodecow ccodealp  ccode  aii_acc  \\\n",
       "0  Afghanistan  Afghanistan          4     700.0      AFG    4.0      NaN   \n",
       "1      Albania      Albania          8     339.0      ALB    8.0      NaN   \n",
       "2      Algeria      Algeria         12     615.0      DZA   12.0    12.50   \n",
       "3      Andorra      Andorra         20     232.0      AND   20.0      NaN   \n",
       "4       Angola       Angola         24     540.0      AGO   24.0    18.75   \n",
       "\n",
       "   aii_aio  aii_cilser  aii_elec  ...  yri_fem40  yri_fem4160  yri_fem61  \\\n",
       "0      NaN         NaN       NaN  ...        NaN          NaN        NaN   \n",
       "1      NaN         NaN       NaN  ...       20.8         75.0        4.2   \n",
       "2      5.0        12.5  8.333333  ...        NaN          NaN        NaN   \n",
       "3      NaN         NaN       NaN  ...        7.1         78.6       14.3   \n",
       "4     15.0         0.0  0.000000  ...        NaN          NaN        NaN   \n",
       "\n",
       "   yri_meanage  yri_medianage  yri_mp30  yri_mp35  yri_mp40  yri_mp4160  \\\n",
       "0          NaN            NaN       NaN       NaN       NaN         NaN   \n",
       "1         51.0           51.0       0.0       5.8      15.9        72.5   \n",
       "2          NaN            NaN       NaN       NaN       NaN         NaN   \n",
       "3         48.2           48.5       3.6      14.3      17.9        71.4   \n",
       "4          NaN            NaN       NaN       NaN       NaN         NaN   \n",
       "\n",
       "   yri_mp61  \n",
       "0       NaN  \n",
       "1      11.6  \n",
       "2       NaN  \n",
       "3      10.7  \n",
       "4       NaN  \n",
       "\n",
       "[5 rows x 1641 columns]"
      ]
     },
     "execution_count": 74,
     "metadata": {},
     "output_type": "execute_result"
    }
   ],
   "source": [
    "# Importing packages\n",
    "import pandas as pd\n",
    "import numpy as np\n",
    "import matplotlib.pyplot as plt\n",
    "import seaborn as sns\n",
    "import statsmodels.api as sm\n",
    "import statsmodels.formula.api as smf \n",
    "import scipy.stats as stats\n",
    "\n",
    "# Grabbing Data\n",
    "url = 'https://www.qogdata.pol.gu.se/data/qog_std_cs_jan25.csv'\n",
    "df = pd.read_csv(url)\n",
    "\n",
    "# Visualize 5 first rows of data\n",
    "df.head()"
   ]
  },
  {
   "cell_type": "markdown",
   "id": "b793642a",
   "metadata": {},
   "source": [
    "<b> Question 3.1 </b> <br>\n",
    "Run a simple bivariate regression, and interpret your results. (Did the results fit your expectations? Why? Why not?)"
   ]
  },
  {
   "cell_type": "code",
   "execution_count": 75,
   "id": "0bedae6f",
   "metadata": {},
   "outputs": [
    {
     "data": {
      "text/plain": [
       "count    135.000000\n",
       "mean       5.155556\n",
       "std        1.731476\n",
       "min        1.000000\n",
       "25%        4.000000\n",
       "50%        5.000000\n",
       "75%        6.000000\n",
       "max        9.000000\n",
       "Name: bti_sc, dtype: float64"
      ]
     },
     "execution_count": 75,
     "metadata": {},
     "output_type": "execute_result"
    }
   ],
   "source": [
    "# Question 3.1 Code\n",
    "\n",
    "# Variable 1, Social Capital (bti_sc)\n",
    "\"\"\"\n",
    "Social Capital: To what extent have social self-organization and the construction of social capital advanced? \n",
    "This question aims to assess the level of trust between citizens, which fosters cooperation and mutual support\n",
    "for purposes of self-help, rather than primarily to further political objectives.\n",
    "\n",
    "1. There is a very low level of trust among the population, and civic self-organization is rudimentary.\n",
    "\n",
    "4. There is a fairly low level of trust among the population. The small number of autonomous,\n",
    "self-organized groups, associations and organizations is unevenly distributed or spontaneous and\n",
    "temporary.\n",
    "\n",
    "7. There is a fairly high level of trust among the population and a substantial number of autonomous,\n",
    "self-organized groups, associations and organizations.\n",
    "\n",
    "10. There is a very high level of trust among the population and a large number of autonomous,\n",
    "self-organized groups, associations and organizations.\n",
    "\n",
    "From QoG Codebook \n",
    "\"\"\" \n",
    "df['bti_sc'].describe()"
   ]
  },
  {
   "cell_type": "code",
   "execution_count": 76,
   "id": "60b50652",
   "metadata": {},
   "outputs": [
    {
     "data": {
      "text/plain": [
       "count    135.000000\n",
       "mean       4.503704\n",
       "std        2.625575\n",
       "min        1.000000\n",
       "25%        2.000000\n",
       "50%        3.000000\n",
       "75%        7.000000\n",
       "max       10.000000\n",
       "Name: bti_pdi, dtype: float64"
      ]
     },
     "execution_count": 76,
     "metadata": {},
     "output_type": "execute_result"
    }
   ],
   "source": [
    "# Variable 2, Performance of Democratic Institutions (bti_pdi)\n",
    "'''\n",
    "1. There are no democratic institutions as such (authoritarian regimes).\n",
    "4. Democratic institutions exist but they are unstable and ineffective.\n",
    "7. Democratic institutions perform their functions in principle, but often are inefficient due to friction\n",
    "between institutions.\n",
    "10. The ensemble of democratic institutions is effective and efficient. As a rule, political decisions are\n",
    "prepared, made, implemented, and reviewed in legitimate procedures by the appropriate authorities.\n",
    "\n",
    "From QoG Codebook\n",
    "\n",
    "'''\n",
    "df['bti_pdi'].describe()"
   ]
  },
  {
   "cell_type": "markdown",
   "id": "1f932697",
   "metadata": {},
   "source": [
    "Based on these two variables, I plan to see if there is a relationship between the level of trust among a population, and the efficency/effectiveness of their democratic institutions. \n",
    "\n",
    "I expect to see a correlation, where populations that have a higher level of trust among themselves then result in have more effective/efficiency democratic institutions. This is based on the idea that if you are capable of working and trusting the person next to you and those within your community, you're more likely to be able to develop democratic solutions for your community/country.  "
   ]
  },
  {
   "cell_type": "code",
   "execution_count": 77,
   "id": "f32e6cb0",
   "metadata": {},
   "outputs": [
    {
     "name": "stdout",
     "output_type": "stream",
     "text": [
      "                            OLS Regression Results                            \n",
      "==============================================================================\n",
      "Dep. Variable:                bti_pdi   R-squared:                       0.579\n",
      "Model:                            OLS   Adj. R-squared:                  0.576\n",
      "Method:                 Least Squares   F-statistic:                     182.7\n",
      "Date:                Thu, 19 Jun 2025   Prob (F-statistic):           9.78e-27\n",
      "Time:                        18:27:47   Log-Likelihood:                -263.02\n",
      "No. Observations:                 135   AIC:                             530.0\n",
      "Df Residuals:                     133   BIC:                             535.9\n",
      "Df Model:                           1                                         \n",
      "Covariance Type:            nonrobust                                         \n",
      "==============================================================================\n",
      "                 coef    std err          t      P>|t|      [0.025      0.975]\n",
      "------------------------------------------------------------------------------\n",
      "Intercept     -1.4435      0.464     -3.111      0.002      -2.361      -0.526\n",
      "bti_sc         1.1536      0.085     13.517      0.000       0.985       1.322\n",
      "==============================================================================\n",
      "Omnibus:                        6.143   Durbin-Watson:                   1.986\n",
      "Prob(Omnibus):                  0.046   Jarque-Bera (JB):                3.142\n",
      "Skew:                          -0.101   Prob(JB):                        0.208\n",
      "Kurtosis:                       2.280   Cond. No.                         17.7\n",
      "==============================================================================\n",
      "\n",
      "Notes:\n",
      "[1] Standard Errors assume that the covariance matrix of the errors is correctly specified.\n"
     ]
    }
   ],
   "source": [
    "cor_demeff_trust = smf.ols(formula = 'bti_pdi~bti_sc', data = df, subset=df['bti_foe'].notna()).fit()\n",
    "print (cor_demeff_trust.summary())  "
   ]
  },
  {
   "cell_type": "markdown",
   "id": "66b3ee42",
   "metadata": {},
   "source": [
    "Interpretation of results of the Simple Bivariate Regression: \n",
    "\n",
    "The results support my hypothesis. We got a R square of 0.579 which means that roughly 58% of democratic efficiency/effective comes from high level of trust within it's population. From the table we can see that for every increase of 1 in bti_pdi we see an increase of 1.1536 in bti_sc. Looking over at the P > |t| coloumn, we can see that for bti_sc the value is zero, Meaning that the relationship between the two variables is likely to be a real relationship. Overall this is the expected relationship that I expected to see between trust within a society and efficiency/effectiveness of democratic instituions. "
   ]
  },
  {
   "cell_type": "markdown",
   "id": "408911fd",
   "metadata": {},
   "source": [
    "<b> Question 3.2 </b> <br>\n",
    "Add an additional variable that might mediate or partly \"explain\" the initial association from that simple regression above -- and explain your results. Did it work out? Yes? No?"
   ]
  },
  {
   "cell_type": "code",
   "execution_count": 78,
   "id": "a752d2c7",
   "metadata": {},
   "outputs": [
    {
     "data": {
      "text/plain": [
       "count    135.000000\n",
       "mean       5.037037\n",
       "std        2.492997\n",
       "min        1.000000\n",
       "25%        3.000000\n",
       "50%        5.000000\n",
       "75%        7.000000\n",
       "max       10.000000\n",
       "Name: bti_foe, dtype: float64"
      ]
     },
     "execution_count": 78,
     "metadata": {},
     "output_type": "execute_result"
    }
   ],
   "source": [
    "#Question 3.2 Code\n",
    "\n",
    "# Third Variable, Freedom of Expression (bti_foe)\n",
    "'''\n",
    "To what extent can citizens, organizations, and the mass media express opinions freely? From 1\n",
    "to 10.\n",
    "1. Freedom of expression is denied. Independent media do not exist or are prohibited.\n",
    "4. Freedom of expression is often subject to interference or government restrictions. Distortion and\n",
    "manipulation shape matters of public debate.\n",
    "7. Freedom of expression is occasionally subject to interference or government restrictions, but there\n",
    "are generally no incidents of blatant intrusions like outright state censorship or media shutdowns.\n",
    "10. Freedom of expression is guaranteed against interference or government restrictions. Individuals,\n",
    "groups and the press can fully exercise these rights.\n",
    "\n",
    "From QoG Codebook\n",
    "'''\n",
    "df['bti_foe'].describe()"
   ]
  },
  {
   "cell_type": "markdown",
   "id": "82c5e2cd",
   "metadata": {},
   "source": [
    "Next up, I will quickly evaluate how much my two indepdent variables will coorelate. "
   ]
  },
  {
   "cell_type": "code",
   "execution_count": 79,
   "id": "4854a231",
   "metadata": {},
   "outputs": [
    {
     "data": {
      "text/plain": [
       "PearsonRResult(statistic=0.6919234408830255, pvalue=1.5094608207334395e-20)"
      ]
     },
     "execution_count": 79,
     "metadata": {},
     "output_type": "execute_result"
    }
   ],
   "source": [
    "df_filtered = df[['bti_foe', 'bti_sc']].dropna()\n",
    "stats.pearsonr(df_filtered['bti_foe'], df_filtered['bti_sc'])"
   ]
  },
  {
   "cell_type": "markdown",
   "id": "88c67200",
   "metadata": {},
   "source": [
    "Looking at the results, I have a strong correlation (0.69), and the P-value is a small number so this continue to indicate they are relevant"
   ]
  },
  {
   "cell_type": "code",
   "execution_count": 80,
   "id": "1e69d758",
   "metadata": {},
   "outputs": [
    {
     "name": "stdout",
     "output_type": "stream",
     "text": [
      "                            OLS Regression Results                            \n",
      "==============================================================================\n",
      "Dep. Variable:                bti_pdi   R-squared:                       0.829\n",
      "Model:                            OLS   Adj. R-squared:                  0.826\n",
      "Method:                 Least Squares   F-statistic:                     320.0\n",
      "Date:                Thu, 19 Jun 2025   Prob (F-statistic):           2.39e-51\n",
      "Time:                        18:27:47   Log-Likelihood:                -202.16\n",
      "No. Observations:                 135   AIC:                             410.3\n",
      "Df Residuals:                     132   BIC:                             419.0\n",
      "Df Model:                           2                                         \n",
      "Covariance Type:            nonrobust                                         \n",
      "==============================================================================\n",
      "                 coef    std err          t      P>|t|      [0.025      0.975]\n",
      "------------------------------------------------------------------------------\n",
      "Intercept     -1.3712      0.297     -4.620      0.000      -1.958      -0.784\n",
      "bti_sc         0.4265      0.076      5.642      0.000       0.277       0.576\n",
      "bti_foe        0.7298      0.053     13.900      0.000       0.626       0.834\n",
      "==============================================================================\n",
      "Omnibus:                        0.182   Durbin-Watson:                   2.036\n",
      "Prob(Omnibus):                  0.913   Jarque-Bera (JB):                0.159\n",
      "Skew:                           0.080   Prob(JB):                        0.924\n",
      "Kurtosis:                       2.950   Cond. No.                         24.9\n",
      "==============================================================================\n",
      "\n",
      "Notes:\n",
      "[1] Standard Errors assume that the covariance matrix of the errors is correctly specified.\n"
     ]
    }
   ],
   "source": [
    "#Running a new correlation with the added variable\n",
    "cor_demeff_trust_freespeech = smf.ols(formula = 'bti_pdi~bti_sc + bti_foe', data = df ).fit()\n",
    "print(cor_demeff_trust_freespeech.summary())"
   ]
  },
  {
   "cell_type": "markdown",
   "id": "41fba350",
   "metadata": {},
   "source": [
    "Explanation the results of the new regression with additional variable: \n",
    "\n",
    "The result outcome are great. We got a higher R squared of 0.829 which means that roughly 82.9% of democratic efficiency/effective comes from high level of trust within it's population alongside the population freedom of expression of being guaranteed. Interestingly the coef bti_sc has now dropped, and is less than the coef of bti_foe. Implying that the bti_foe is a more important indepdent variable to the efficentiveness of a population than social trust. Again continued the zero value of p>|t| express that these vairables are very likely to be real relationships. "
   ]
  },
  {
   "cell_type": "markdown",
   "id": "7b8b8fda",
   "metadata": {},
   "source": [
    "<b> Question 3.3 </b> <br>\n",
    "\n",
    " More on extreme combinations. Find the top 5 entities that are ranked at the top on one variable and ranked at the bottom on anothervariable. Interpret your results."
   ]
  },
  {
   "cell_type": "code",
   "execution_count": 81,
   "id": "76a5b479",
   "metadata": {},
   "outputs": [
    {
     "data": {
      "text/html": [
       "<div>\n",
       "<style scoped>\n",
       "    .dataframe tbody tr th:only-of-type {\n",
       "        vertical-align: middle;\n",
       "    }\n",
       "\n",
       "    .dataframe tbody tr th {\n",
       "        vertical-align: top;\n",
       "    }\n",
       "\n",
       "    .dataframe thead th {\n",
       "        text-align: right;\n",
       "    }\n",
       "</style>\n",
       "<table border=\"1\" class=\"dataframe\">\n",
       "  <thead>\n",
       "    <tr style=\"text-align: right;\">\n",
       "      <th></th>\n",
       "      <th>cname</th>\n",
       "      <th>freedom_of_expression_level</th>\n",
       "      <th>trust_level</th>\n",
       "      <th>rank_difference</th>\n",
       "    </tr>\n",
       "  </thead>\n",
       "  <tbody>\n",
       "    <tr>\n",
       "      <th>187</th>\n",
       "      <td>Uruguay</td>\n",
       "      <td>133.5</td>\n",
       "      <td>3.0</td>\n",
       "      <td>130.5</td>\n",
       "    </tr>\n",
       "    <tr>\n",
       "      <th>42</th>\n",
       "      <td>Costa Rica</td>\n",
       "      <td>133.5</td>\n",
       "      <td>9.0</td>\n",
       "      <td>124.5</td>\n",
       "    </tr>\n",
       "    <tr>\n",
       "      <th>56</th>\n",
       "      <td>Estonia</td>\n",
       "      <td>127.0</td>\n",
       "      <td>3.0</td>\n",
       "      <td>124.0</td>\n",
       "    </tr>\n",
       "    <tr>\n",
       "      <th>37</th>\n",
       "      <td>Taiwan (Province of China)</td>\n",
       "      <td>127.0</td>\n",
       "      <td>3.0</td>\n",
       "      <td>124.0</td>\n",
       "    </tr>\n",
       "    <tr>\n",
       "      <th>46</th>\n",
       "      <td>Czechia</td>\n",
       "      <td>127.0</td>\n",
       "      <td>3.0</td>\n",
       "      <td>124.0</td>\n",
       "    </tr>\n",
       "  </tbody>\n",
       "</table>\n",
       "</div>"
      ],
      "text/plain": [
       "                          cname  freedom_of_expression_level  trust_level  \\\n",
       "187                     Uruguay                        133.5          3.0   \n",
       "42                   Costa Rica                        133.5          9.0   \n",
       "56                      Estonia                        127.0          3.0   \n",
       "37   Taiwan (Province of China)                        127.0          3.0   \n",
       "46                      Czechia                        127.0          3.0   \n",
       "\n",
       "     rank_difference  \n",
       "187            130.5  \n",
       "42             124.5  \n",
       "56             124.0  \n",
       "37             124.0  \n",
       "46             124.0  "
      ]
     },
     "execution_count": 81,
     "metadata": {},
     "output_type": "execute_result"
    }
   ],
   "source": [
    "#Question 3.3 Code \n",
    "\n",
    "df['trust_level'] = df['bti_sc'].rank(ascending=False)\n",
    "df['freedom_of_expression_level'] = df['bti_foe'].rank(ascending=True)\n",
    "\n",
    "\n",
    "extreme_comb = df[['cname','freedom_of_expression_level', 'trust_level']].copy()\n",
    "extreme_comb['rank_difference'] = extreme_comb['freedom_of_expression_level'] - extreme_comb['trust_level']\n",
    "extreme_sorted = extreme_comb.sort_values(by='rank_difference', ascending=False).head(5)\n",
    "extreme_sorted"
   ]
  },
  {
   "cell_type": "markdown",
   "id": "7c8b378c",
   "metadata": {},
   "source": [
    "Student interprets the results of this highest-lowest table\n",
    "\n",
    "Our extremes are the Freedom of Expression and Social Capital (Trust Level) Variables. \n",
    "\n",
    "Our table shows us the countries that are ranked at the bottom for freedom of expression but are ranked highly in trust. Seeing Taiwan on this table makes alot sense to me. The country is trustworthy of it's citizens and generally of it's government but the impedeing chinese influence on the country has resulted in the country feeling has if they aren't able to call for their freedom and indepdence. (Thinking about the Anti China Riots that happened a few years ago.)"
   ]
  }
 ],
 "metadata": {
  "kernelspec": {
   "display_name": "base",
   "language": "python",
   "name": "python3"
  },
  "language_info": {
   "codemirror_mode": {
    "name": "ipython",
    "version": 3
   },
   "file_extension": ".py",
   "mimetype": "text/x-python",
   "name": "python",
   "nbconvert_exporter": "python",
   "pygments_lexer": "ipython3",
   "version": "3.11.5"
  }
 },
 "nbformat": 4,
 "nbformat_minor": 5
}
