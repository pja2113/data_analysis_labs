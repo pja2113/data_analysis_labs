{
 "cells": [
  {
   "cell_type": "markdown",
   "id": "2600852f",
   "metadata": {},
   "source": [
    "<font size = 2> <B> PHILIP AUERBACH <BR>UNI: PJA2113 </B></font>"
   ]
  },
  {
   "cell_type": "markdown",
   "id": "bdcfbcbc",
   "metadata": {},
   "source": [
    "<font size = 2> <B> Predicting the next F1 Qualifier </B></font><br> <B> Lab #5 </B> <br> Description of Project: <br> The purpose of the Lab is to attmept to develop a model which can efficetively predict a Formula 1 Race, based on Praticed laps of the race. We will train a the Random Forst Model on all the pratice laps and qualification data provided by a OPENF1 spreadsheet I created in Palantir's Foundry. This includes race data from the 2023 to 2025 Formula one race. At the end I will "
   ]
  },
  {
   "cell_type": "code",
   "execution_count": 77,
   "id": "6d0cd97c",
   "metadata": {},
   "outputs": [
    {
     "data": {
      "text/html": [
       "<div>\n",
       "<style scoped>\n",
       "    .dataframe tbody tr th:only-of-type {\n",
       "        vertical-align: middle;\n",
       "    }\n",
       "\n",
       "    .dataframe tbody tr th {\n",
       "        vertical-align: top;\n",
       "    }\n",
       "\n",
       "    .dataframe thead th {\n",
       "        text-align: right;\n",
       "    }\n",
       "</style>\n",
       "<table border=\"1\" class=\"dataframe\">\n",
       "  <thead>\n",
       "    <tr style=\"text-align: right;\">\n",
       "      <th></th>\n",
       "      <th>date_lap_start</th>\n",
       "      <th>meeting_key</th>\n",
       "      <th>session_key</th>\n",
       "      <th>driver_number</th>\n",
       "      <th>lap_number</th>\n",
       "      <th>lap_duration</th>\n",
       "      <th>sector_1</th>\n",
       "      <th>sector_2</th>\n",
       "      <th>sector_3</th>\n",
       "      <th>compound</th>\n",
       "      <th>session_type</th>\n",
       "      <th>circuit_key</th>\n",
       "      <th>country_name</th>\n",
       "      <th>year</th>\n",
       "      <th>meeting_name</th>\n",
       "      <th>full_name</th>\n",
       "    </tr>\n",
       "  </thead>\n",
       "  <tbody>\n",
       "    <tr>\n",
       "      <th>0</th>\n",
       "      <td>2024-11-03T10:33:18.629Z</td>\n",
       "      <td>1249</td>\n",
       "      <td>9627</td>\n",
       "      <td>81</td>\n",
       "      <td>2</td>\n",
       "      <td>93.249</td>\n",
       "      <td>23.612</td>\n",
       "      <td>49.652</td>\n",
       "      <td>19.985</td>\n",
       "      <td>WET</td>\n",
       "      <td>Qualifying</td>\n",
       "      <td>14</td>\n",
       "      <td>Brazil</td>\n",
       "      <td>2024</td>\n",
       "      <td>São Paulo Grand Prix</td>\n",
       "      <td>Oscar PIASTRI</td>\n",
       "    </tr>\n",
       "    <tr>\n",
       "      <th>1</th>\n",
       "      <td>2024-11-03T10:34:51.874Z</td>\n",
       "      <td>1249</td>\n",
       "      <td>9627</td>\n",
       "      <td>81</td>\n",
       "      <td>3</td>\n",
       "      <td>92.814</td>\n",
       "      <td>24.080</td>\n",
       "      <td>49.304</td>\n",
       "      <td>19.430</td>\n",
       "      <td>WET</td>\n",
       "      <td>Qualifying</td>\n",
       "      <td>14</td>\n",
       "      <td>Brazil</td>\n",
       "      <td>2024</td>\n",
       "      <td>São Paulo Grand Prix</td>\n",
       "      <td>Oscar PIASTRI</td>\n",
       "    </tr>\n",
       "    <tr>\n",
       "      <th>2</th>\n",
       "      <td>2024-11-03T10:36:24.710Z</td>\n",
       "      <td>1249</td>\n",
       "      <td>9627</td>\n",
       "      <td>81</td>\n",
       "      <td>4</td>\n",
       "      <td>91.999</td>\n",
       "      <td>23.130</td>\n",
       "      <td>48.737</td>\n",
       "      <td>20.132</td>\n",
       "      <td>WET</td>\n",
       "      <td>Qualifying</td>\n",
       "      <td>14</td>\n",
       "      <td>Brazil</td>\n",
       "      <td>2024</td>\n",
       "      <td>São Paulo Grand Prix</td>\n",
       "      <td>Oscar PIASTRI</td>\n",
       "    </tr>\n",
       "    <tr>\n",
       "      <th>3</th>\n",
       "      <td>2024-11-03T10:49:29.505Z</td>\n",
       "      <td>1249</td>\n",
       "      <td>9627</td>\n",
       "      <td>81</td>\n",
       "      <td>7</td>\n",
       "      <td>91.130</td>\n",
       "      <td>23.057</td>\n",
       "      <td>47.647</td>\n",
       "      <td>19.410</td>\n",
       "      <td>WET</td>\n",
       "      <td>Qualifying</td>\n",
       "      <td>14</td>\n",
       "      <td>Brazil</td>\n",
       "      <td>2024</td>\n",
       "      <td>São Paulo Grand Prix</td>\n",
       "      <td>Oscar PIASTRI</td>\n",
       "    </tr>\n",
       "    <tr>\n",
       "      <th>4</th>\n",
       "      <td>2024-11-03T10:52:37.785Z</td>\n",
       "      <td>1249</td>\n",
       "      <td>9627</td>\n",
       "      <td>81</td>\n",
       "      <td>9</td>\n",
       "      <td>114.383</td>\n",
       "      <td>23.765</td>\n",
       "      <td>70.892</td>\n",
       "      <td>19.726</td>\n",
       "      <td>WET</td>\n",
       "      <td>Qualifying</td>\n",
       "      <td>14</td>\n",
       "      <td>Brazil</td>\n",
       "      <td>2024</td>\n",
       "      <td>São Paulo Grand Prix</td>\n",
       "      <td>Oscar PIASTRI</td>\n",
       "    </tr>\n",
       "  </tbody>\n",
       "</table>\n",
       "</div>"
      ],
      "text/plain": [
       "             date_lap_start  meeting_key  session_key  driver_number  \\\n",
       "0  2024-11-03T10:33:18.629Z         1249         9627             81   \n",
       "1  2024-11-03T10:34:51.874Z         1249         9627             81   \n",
       "2  2024-11-03T10:36:24.710Z         1249         9627             81   \n",
       "3  2024-11-03T10:49:29.505Z         1249         9627             81   \n",
       "4  2024-11-03T10:52:37.785Z         1249         9627             81   \n",
       "\n",
       "   lap_number  lap_duration  sector_1  sector_2  sector_3 compound  \\\n",
       "0           2        93.249    23.612    49.652    19.985      WET   \n",
       "1           3        92.814    24.080    49.304    19.430      WET   \n",
       "2           4        91.999    23.130    48.737    20.132      WET   \n",
       "3           7        91.130    23.057    47.647    19.410      WET   \n",
       "4           9       114.383    23.765    70.892    19.726      WET   \n",
       "\n",
       "  session_type  circuit_key country_name  year          meeting_name  \\\n",
       "0   Qualifying           14       Brazil  2024  São Paulo Grand Prix   \n",
       "1   Qualifying           14       Brazil  2024  São Paulo Grand Prix   \n",
       "2   Qualifying           14       Brazil  2024  São Paulo Grand Prix   \n",
       "3   Qualifying           14       Brazil  2024  São Paulo Grand Prix   \n",
       "4   Qualifying           14       Brazil  2024  São Paulo Grand Prix   \n",
       "\n",
       "       full_name  \n",
       "0  Oscar PIASTRI  \n",
       "1  Oscar PIASTRI  \n",
       "2  Oscar PIASTRI  \n",
       "3  Oscar PIASTRI  \n",
       "4  Oscar PIASTRI  "
      ]
     },
     "execution_count": 77,
     "metadata": {},
     "output_type": "execute_result"
    }
   ],
   "source": [
    "# Importing Libraries\n",
    "import pandas as pd\n",
    "import numpy as np\n",
    "import matplotlib.pyplot as plt\n",
    "import seaborn as sns\n",
    "from sklearn.model_selection import train_test_split, GridSearchCV\n",
    "from sklearn.linear_model import LinearRegression\n",
    "from sklearn.ensemble import RandomForestRegressor\n",
    "from sklearn.metrics import mean_squared_error, r2_score\n",
    "\n",
    "# Load data\n",
    "complete_f1_df = pd.read_csv('F1_Class_Datasheet.csv')\n",
    "complete_f1_df.head(5)\n"
   ]
  },
  {
   "cell_type": "markdown",
   "id": "7881da78",
   "metadata": {},
   "source": [
    "Next I want to separate the most recent race data because this is the data I want to use see if the model works. "
   ]
  },
  {
   "cell_type": "markdown",
   "id": "7a72e0a3",
   "metadata": {},
   "source": [
    "<b> Splitting Data</b>"
   ]
  },
  {
   "cell_type": "code",
   "execution_count": 78,
   "id": "3d9829fe",
   "metadata": {},
   "outputs": [],
   "source": [
    "# Next up will split our data from our train model and the data that we will use to predict a qualify result\n",
    "df_f1_train = complete_f1_df[complete_f1_df['meeting_key'] != 1264]\n",
    "df_f1_1264  = complete_f1_df[complete_f1_df['meeting_key'] == 1264]"
   ]
  },
  {
   "cell_type": "markdown",
   "id": "d3116a19",
   "metadata": {},
   "source": [
    "<b> Creating Fastest Laps Dataframe </b>"
   ]
  },
  {
   "cell_type": "code",
   "execution_count": 79,
   "id": "1feb6d67",
   "metadata": {},
   "outputs": [],
   "source": [
    "# Extract each driver’s fastest practice lap\n",
    "practice_df = df_f1_train[df_f1_train['session_type'] == 'Practice']\n",
    "fastest_laps = (\n",
    "    practice_df\n",
    "    .sort_values('lap_duration')\n",
    "    .groupby(['session_key','meeting_key','driver_number','circuit_key'])\n",
    "    .first()\n",
    "    .reset_index()\n",
    ")\n",
    "\n",
    "agg_practice = fastest_laps[[\n",
    "    'session_key','meeting_key','driver_number','circuit_key',\n",
    "    'lap_duration','sector_1','sector_2','sector_3','lap_number','year'\n",
    "]]\n",
    "agg_practice.columns = [\n",
    "    'session_key','meeting_key','driver_number','circuit_key',\n",
    "    'practice_lap_best','sector1_fastest','sector2_fastest','sector3_fastest',\n",
    "    'lap_number_fastest','year'\n",
    "]"
   ]
  },
  {
   "cell_type": "markdown",
   "id": "9b36318b",
   "metadata": {},
   "source": [
    "<B> Creating Best Qualifying Dataframe </b>"
   ]
  },
  {
   "cell_type": "code",
   "execution_count": 80,
   "id": "5782c8bb",
   "metadata": {},
   "outputs": [],
   "source": [
    "# Prepare target: best qualifying lap per driver per weekend\n",
    "qual_best = df_f1_train[df_f1_train['session_type']=='Qualifying']\n",
    "qual_target = (\n",
    "    qual_best\n",
    "    .groupby(['meeting_key','driver_number'])['lap_duration']\n",
    "    .min()\n",
    "    .reset_index()\n",
    ")\n",
    "qual_target.columns = ['meeting_key','driver_number','best_qual_lap']\n",
    "\n",
    "#  Merge training and target \n",
    "train_df = pd.merge(agg_practice, qual_target, on=['meeting_key','driver_number'])"
   ]
  },
  {
   "cell_type": "markdown",
   "id": "02d54592",
   "metadata": {},
   "source": [
    "<B>Creating Training Model </B>"
   ]
  },
  {
   "cell_type": "code",
   "execution_count": 81,
   "id": "1a07f95e",
   "metadata": {},
   "outputs": [],
   "source": [
    "# Now dropping unwanted coloumns \n",
    "train_df = train_df.drop(columns=[\n",
    "    'circuit_qual_best',   # if you still have it\n",
    "    'year',\n",
    "    'lap_number_fastest'\n",
    "], errors='ignore')\n",
    "# 7) Train/Test Split\n",
    "X = train_df.drop(columns=['best_qual_lap','meeting_key','driver_number'])\n",
    "y = train_df['best_qual_lap']\n",
    "X_train, X_test, y_train, y_test = train_test_split(\n",
    "    X, y, test_size=0.20, random_state=42\n",
    ")\n",
    "\n"
   ]
  },
  {
   "cell_type": "markdown",
   "id": "85a4f421",
   "metadata": {},
   "source": [
    "<b> OLS Regression / Mean Squared Error / R Squared </b> "
   ]
  },
  {
   "cell_type": "code",
   "execution_count": null,
   "id": "a808b32b",
   "metadata": {},
   "outputs": [
    {
     "name": "stdout",
     "output_type": "stream",
     "text": [
      "OLS MSE: 19.319544811628337\n",
      "OLS R2: 0.8201094595185189\n"
     ]
    }
   ],
   "source": [
    "# OLS Regression\n",
    "ols = LinearRegression()\n",
    "ols.fit(X_train, y_train)\n",
    "ols_preds = ols.predict(X_test)\n",
    "print(\"OLS MSE:\", mean_squared_error(y_test, ols_preds))\n",
    "print(\"OLS R2:\", r2_score(y_test, ols_preds))\n",
    "\n"
   ]
  },
  {
   "cell_type": "markdown",
   "id": "11bbfd69",
   "metadata": {},
   "source": [
    "<b> Coefficients of Model </b> "
   ]
  },
  {
   "cell_type": "code",
   "execution_count": null,
   "id": "0e6e3080",
   "metadata": {},
   "outputs": [
    {
     "data": {
      "text/plain": [
       "session_key         -0.000385\n",
       "circuit_key          0.019739\n",
       "practice_lap_best    0.569766\n",
       "sector1_fastest      0.230199\n",
       "sector2_fastest      0.248488\n",
       "sector3_fastest      0.091079\n",
       "dtype: float64"
      ]
     },
     "execution_count": 94,
     "metadata": {},
     "output_type": "execute_result"
    }
   ],
   "source": [
    "# Getting Coefficients \n",
    "coefficients = pd.Series(ols.coef_, index=X.columns)\n",
    "coefficients"
   ]
  },
  {
   "cell_type": "markdown",
   "id": "33ea0131",
   "metadata": {},
   "source": [
    "Pratice_lap_best : For a one unit increase of best_qualify_lap is associated with a a 0.56 increase in pratice_lap_best, this is fairly significant\n",
    "\n",
    "Session_key : For a one unit increase of best_qualify_lap is associated with a very small decrease in session_key, showing this has little to no impact on best_qualify_lap\n",
    "\n",
    "Sector 2 : For a one unit increase of best_qualify_lap is associated with 0.248 increase in pratice_lap_best, showing this has relevant signifance on best_qualify_lap "
   ]
  },
  {
   "cell_type": "markdown",
   "id": "861eed3f",
   "metadata": {},
   "source": [
    "<b> Random Forest Model </B>"
   ]
  },
  {
   "cell_type": "code",
   "execution_count": null,
   "id": "b4621c92",
   "metadata": {},
   "outputs": [
    {
     "name": "stdout",
     "output_type": "stream",
     "text": [
      "Fitting 3 folds for each of 108 candidates, totalling 324 fits\n",
      "RF MSE: 4.048832720966123\n",
      "RF R2: 0.9623000068792866\n"
     ]
    }
   ],
   "source": [
    "# Random Forest + Grid Search\n",
    "rf = RandomForestRegressor()\n",
    "rf_params = {\n",
    "    'n_estimators': [100,200,300],\n",
    "    'max_depth': [None, 10, 20, 30],\n",
    "    'min_samples_split': [2,5,10],\n",
    "    'min_samples_leaf': [1,2,4],\n",
    "    'max_features': ['sqrt']\n",
    "}\n",
    "rf_grid = GridSearchCV(rf, rf_params, cv=3, n_jobs=-1, verbose=1)\n",
    "rf_grid.fit(X_train, y_train)\n",
    "\n",
    "best_rf = rf_grid.best_estimator_\n",
    "rf_preds = best_rf.predict(X_test)\n",
    "print(\"RF Mean Squared Error:\", mean_squared_error(y_test, rf_preds))\n",
    "print(\"RF R Squared:\", r2_score(y_test, rf_preds))\n",
    "\n"
   ]
  },
  {
   "cell_type": "markdown",
   "id": "4f952610",
   "metadata": {},
   "source": [
    "In our results, we can see that R Squared has increased and the MSE has decreased. This different helps us see that the Random Forest model was capable of making more accurate predictions and explained the data better to previous models."
   ]
  },
  {
   "cell_type": "markdown",
   "id": "95b5e8bb",
   "metadata": {},
   "source": [
    "<b> Feature Importance </b>"
   ]
  },
  {
   "cell_type": "code",
   "execution_count": null,
   "id": "8a612476",
   "metadata": {},
   "outputs": [
    {
     "data": {
      "image/png": "[encoded data removed]",
      "text/plain": [
       "<Figure size 800x600 with 1 Axes>"
      ]
     },
     "metadata": {},
     "output_type": "display_data"
    }
   ],
   "source": [
    "# Plotting Feature Importances\n",
    "importances = best_rf.feature_importances_\n",
    "plt.figure(figsize=(8,6))\n",
    "plt.barh(X.columns, importances)\n",
    "plt.title(\"Random Forest Feature Importances\")\n",
    "plt.gca().invert_yaxis()\n",
    "plt.show()"
   ]
  },
  {
   "cell_type": "markdown",
   "id": "daab4eab",
   "metadata": {},
   "source": [
    "Taking a look at feature importance we can see a variety of results. First off we can see that the most important feature is the best pratice lap preformance, this seems evident, the faster you drive a lap in pratice the faster you'll drive in qualify. The sector data actually provides us with intersting observations.\n",
    "\n",
    "Sector 2: We see that this is the 2nd most important variable, this is interesting because in F1 races, Sector 2 is usually the more technicaly and complex sector of the track filled with tight and complex corners. So the best drivers in sector 2, usually shaved off alot more time than the others. \n",
    "\n",
    "Sector 1: We see this is the third most important variable. The first sector in F1 is usually long straits, that require flat out speed to out perform the competition. This shows us the importance of F1 teams that are able to build the fastest car on a long strait. \n",
    "\n",
    "Circuit Key: 4th most important varible. This represents the Race Tracks. It's importance shows use that drivers have favorite Race Tracks and are capable of driving them better than others."
   ]
  },
  {
   "cell_type": "markdown",
   "id": "2e8ddf8d",
   "metadata": {},
   "source": [
    "<b> Attempting to Predict Qualify Lap outcomes </b>"
   ]
  },
  {
   "cell_type": "markdown",
   "id": "8a2df066",
   "metadata": {},
   "source": [
    "In this section I attempted to predict the result of who would be the fastest driver for qualify for the Austria GP (Meeting_Key = 1264)\n",
    "\n",
    "Sadly the results don't align with anythign I can interpret based on the actually results. This does show how many other factors go into F1 that are not implemented in my current model or that I haven't properly solved the model just yet. "
   ]
  },
  {
   "cell_type": "code",
   "execution_count": null,
   "id": "c45b79b0",
   "metadata": {},
   "outputs": [
    {
     "name": "stdout",
     "output_type": "stream",
     "text": [
      "    driver_number          full_name  predicted_qual_lap\n",
      "0              23    Alexander ALBON           64.825302\n",
      "1              63     George RUSSELL           64.825302\n",
      "2               5  Gabriel BORTOLETO           64.825302\n",
      "3              12     Kimi ANTONELLI           64.825302\n",
      "4              14    Fernando ALONSO           64.825302\n",
      "5              30        Liam LAWSON           64.825302\n",
      "6              18       Lance STROLL           64.825302\n",
      "7              22       Yuki TSUNODA           64.825302\n",
      "8              87     Oliver BEARMAN           64.825302\n",
      "9              27    Nico HULKENBERG           64.825302\n",
      "10             55       Carlos SAINZ           64.864229\n",
      "11             31       Esteban OCON           64.874151\n",
      "12              1     Max VERSTAPPEN           64.880902\n",
      "13             16    Charles LECLERC           64.880902\n",
      "14             10       Pierre GASLY           64.915128\n",
      "15             44     Lewis HAMILTON           64.917677\n",
      "16              6       Isack HADJAR           64.927676\n",
      "17             89    Alexander DUNNE           64.960288\n",
      "18             43   Franco COLAPINTO           65.013138\n",
      "19             81      Oscar PIASTRI           65.014389\n",
      "20              4       Lando NORRIS           65.220630\n",
      "21             38     Dino BEGANOVIC           65.329597\n"
     ]
    }
   ],
   "source": [
    "# Predict for meeting_key 1264: extract fastest practice laps\n",
    "practice_1264 = df_f1_1264[df_f1_1264['session_type']=='Practice']\n",
    "fastest_1264 = (\n",
    "    practice_1264\n",
    "    .sort_values('lap_duration')\n",
    "    .groupby(['session_key','meeting_key','driver_number','circuit_key'])\n",
    "    .first()\n",
    "    .reset_index()\n",
    ")\n",
    "\n",
    "agg_1264 = fastest_1264[[\n",
    "    'session_key','meeting_key','driver_number','circuit_key',\n",
    "    'lap_duration','sector_1','sector_2','sector_3','lap_number','year'\n",
    "]]\n",
    "agg_1264.columns = [\n",
    "    'session_key','meeting_key','driver_number','circuit_key',\n",
    "    'practice_lap_best','sector1_fastest','sector2_fastest','sector3_fastest',\n",
    "    'lap_number_fastest','year'\n",
    "]\n",
    "\n",
    "\n",
    "# drop it\n",
    "agg_1264 = agg_1264.drop(columns=[\n",
    "    'circuit_qual_best',\n",
    "    'year',\n",
    "    'lap_number_fastest'\n",
    "], errors='ignore')\n",
    "X_1264 = agg_1264[X_train.columns].fillna(X_train.mean())\n",
    "\n",
    "# Fill missing history, predict\n",
    "agg_1264['predicted_qual_lap'] = best_rf.predict(X_1264)\n",
    "\n",
    "\n",
    "\n",
    "# Merge driver names and show ranked results\n",
    "name_map = df_f1_1264[['driver_number','full_name']].drop_duplicates()\n",
    "agg_1264 = pd.merge(agg_1264,name_map,on='driver_number',how='left')\n",
    "\n",
    "unique_preds = (\n",
    "    agg_1264\n",
    "    .groupby(['driver_number','full_name'], as_index=False)['predicted_qual_lap']\n",
    "    .min()\n",
    "    .sort_values('predicted_qual_lap')\n",
    "    .reset_index(drop=True)\n",
    ")\n",
    "\n",
    "print(unique_preds)"
   ]
  },
  {
   "cell_type": "markdown",
   "id": "c336788c",
   "metadata": {},
   "source": []
  }
 ],
 "metadata": {
  "kernelspec": {
   "display_name": "base",
   "language": "python",
   "name": "python3"
  },
  "language_info": {
   "codemirror_mode": {
    "name": "ipython",
    "version": 3
   },
   "file_extension": ".py",
   "mimetype": "text/x-python",
   "name": "python",
   "nbconvert_exporter": "python",
   "pygments_lexer": "ipython3",
   "version": "3.11.5"
  }
 },
 "nbformat": 4,
 "nbformat_minor": 5
}
