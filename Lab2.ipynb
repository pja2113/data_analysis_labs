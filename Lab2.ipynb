{
 "cells": [
  {
   "cell_type": "markdown",
   "id": "2ef81f46",
   "metadata": {},
   "source": [
    "<font size = 2> <B> PHILIP AUERBACH <BR>UNI: PJA2113 </B></font>"
   ]
  },
  {
   "cell_type": "markdown",
   "id": "ce93c821",
   "metadata": {},
   "source": [
    "<font size = 2> <B> QOG Analysis </B></font><br> <B> Lab #2 </B> <br> Description of Project: <br> The goal of the project was to utilize multiple variables from the QOG databse and derive some understanding of the complex data, and try to find variables that work well together to develop / confirm concepts about the world. "
   ]
  },
  {
   "cell_type": "markdown",
   "id": "6db18a92",
   "metadata": {},
   "source": [
    "<b> Project Setup: </b>"
   ]
  },
  {
   "cell_type": "code",
   "execution_count": 55,
   "id": "2988f775",
   "metadata": {},
   "outputs": [
    {
     "data": {
      "text/html": [
       "<div>\n",
       "<style scoped>\n",
       "    .dataframe tbody tr th:only-of-type {\n",
       "        vertical-align: middle;\n",
       "    }\n",
       "\n",
       "    .dataframe tbody tr th {\n",
       "        vertical-align: top;\n",
       "    }\n",
       "\n",
       "    .dataframe thead th {\n",
       "        text-align: right;\n",
       "    }\n",
       "</style>\n",
       "<table border=\"1\" class=\"dataframe\">\n",
       "  <thead>\n",
       "    <tr style=\"text-align: right;\">\n",
       "      <th></th>\n",
       "      <th>cname_qog</th>\n",
       "      <th>cname</th>\n",
       "      <th>ccode_qog</th>\n",
       "      <th>ccodecow</th>\n",
       "      <th>ccodealp</th>\n",
       "      <th>ccode</th>\n",
       "      <th>aii_acc</th>\n",
       "      <th>aii_aio</th>\n",
       "      <th>aii_cilser</th>\n",
       "      <th>aii_elec</th>\n",
       "      <th>...</th>\n",
       "      <th>yri_fem40</th>\n",
       "      <th>yri_fem4160</th>\n",
       "      <th>yri_fem61</th>\n",
       "      <th>yri_meanage</th>\n",
       "      <th>yri_medianage</th>\n",
       "      <th>yri_mp30</th>\n",
       "      <th>yri_mp35</th>\n",
       "      <th>yri_mp40</th>\n",
       "      <th>yri_mp4160</th>\n",
       "      <th>yri_mp61</th>\n",
       "    </tr>\n",
       "  </thead>\n",
       "  <tbody>\n",
       "    <tr>\n",
       "      <th>0</th>\n",
       "      <td>Afghanistan</td>\n",
       "      <td>Afghanistan</td>\n",
       "      <td>4</td>\n",
       "      <td>700.0</td>\n",
       "      <td>AFG</td>\n",
       "      <td>4.0</td>\n",
       "      <td>NaN</td>\n",
       "      <td>NaN</td>\n",
       "      <td>NaN</td>\n",
       "      <td>NaN</td>\n",
       "      <td>...</td>\n",
       "      <td>NaN</td>\n",
       "      <td>NaN</td>\n",
       "      <td>NaN</td>\n",
       "      <td>NaN</td>\n",
       "      <td>NaN</td>\n",
       "      <td>NaN</td>\n",
       "      <td>NaN</td>\n",
       "      <td>NaN</td>\n",
       "      <td>NaN</td>\n",
       "      <td>NaN</td>\n",
       "    </tr>\n",
       "    <tr>\n",
       "      <th>1</th>\n",
       "      <td>Albania</td>\n",
       "      <td>Albania</td>\n",
       "      <td>8</td>\n",
       "      <td>339.0</td>\n",
       "      <td>ALB</td>\n",
       "      <td>8.0</td>\n",
       "      <td>NaN</td>\n",
       "      <td>NaN</td>\n",
       "      <td>NaN</td>\n",
       "      <td>NaN</td>\n",
       "      <td>...</td>\n",
       "      <td>20.8</td>\n",
       "      <td>75.0</td>\n",
       "      <td>4.2</td>\n",
       "      <td>51.0</td>\n",
       "      <td>51.0</td>\n",
       "      <td>0.0</td>\n",
       "      <td>5.8</td>\n",
       "      <td>15.9</td>\n",
       "      <td>72.5</td>\n",
       "      <td>11.6</td>\n",
       "    </tr>\n",
       "    <tr>\n",
       "      <th>2</th>\n",
       "      <td>Algeria</td>\n",
       "      <td>Algeria</td>\n",
       "      <td>12</td>\n",
       "      <td>615.0</td>\n",
       "      <td>DZA</td>\n",
       "      <td>12.0</td>\n",
       "      <td>12.50</td>\n",
       "      <td>5.0</td>\n",
       "      <td>12.5</td>\n",
       "      <td>8.333333</td>\n",
       "      <td>...</td>\n",
       "      <td>NaN</td>\n",
       "      <td>NaN</td>\n",
       "      <td>NaN</td>\n",
       "      <td>NaN</td>\n",
       "      <td>NaN</td>\n",
       "      <td>NaN</td>\n",
       "      <td>NaN</td>\n",
       "      <td>NaN</td>\n",
       "      <td>NaN</td>\n",
       "      <td>NaN</td>\n",
       "    </tr>\n",
       "    <tr>\n",
       "      <th>3</th>\n",
       "      <td>Andorra</td>\n",
       "      <td>Andorra</td>\n",
       "      <td>20</td>\n",
       "      <td>232.0</td>\n",
       "      <td>AND</td>\n",
       "      <td>20.0</td>\n",
       "      <td>NaN</td>\n",
       "      <td>NaN</td>\n",
       "      <td>NaN</td>\n",
       "      <td>NaN</td>\n",
       "      <td>...</td>\n",
       "      <td>7.1</td>\n",
       "      <td>78.6</td>\n",
       "      <td>14.3</td>\n",
       "      <td>48.2</td>\n",
       "      <td>48.5</td>\n",
       "      <td>3.6</td>\n",
       "      <td>14.3</td>\n",
       "      <td>17.9</td>\n",
       "      <td>71.4</td>\n",
       "      <td>10.7</td>\n",
       "    </tr>\n",
       "    <tr>\n",
       "      <th>4</th>\n",
       "      <td>Angola</td>\n",
       "      <td>Angola</td>\n",
       "      <td>24</td>\n",
       "      <td>540.0</td>\n",
       "      <td>AGO</td>\n",
       "      <td>24.0</td>\n",
       "      <td>18.75</td>\n",
       "      <td>15.0</td>\n",
       "      <td>0.0</td>\n",
       "      <td>0.000000</td>\n",
       "      <td>...</td>\n",
       "      <td>NaN</td>\n",
       "      <td>NaN</td>\n",
       "      <td>NaN</td>\n",
       "      <td>NaN</td>\n",
       "      <td>NaN</td>\n",
       "      <td>NaN</td>\n",
       "      <td>NaN</td>\n",
       "      <td>NaN</td>\n",
       "      <td>NaN</td>\n",
       "      <td>NaN</td>\n",
       "    </tr>\n",
       "  </tbody>\n",
       "</table>\n",
       "<p>5 rows × 1641 columns</p>\n",
       "</div>"
      ],
      "text/plain": [
       "     cname_qog        cname  ccode_qog  ccodecow ccodealp  ccode  aii_acc  \\\n",
       "0  Afghanistan  Afghanistan          4     700.0      AFG    4.0      NaN   \n",
       "1      Albania      Albania          8     339.0      ALB    8.0      NaN   \n",
       "2      Algeria      Algeria         12     615.0      DZA   12.0    12.50   \n",
       "3      Andorra      Andorra         20     232.0      AND   20.0      NaN   \n",
       "4       Angola       Angola         24     540.0      AGO   24.0    18.75   \n",
       "\n",
       "   aii_aio  aii_cilser  aii_elec  ...  yri_fem40  yri_fem4160  yri_fem61  \\\n",
       "0      NaN         NaN       NaN  ...        NaN          NaN        NaN   \n",
       "1      NaN         NaN       NaN  ...       20.8         75.0        4.2   \n",
       "2      5.0        12.5  8.333333  ...        NaN          NaN        NaN   \n",
       "3      NaN         NaN       NaN  ...        7.1         78.6       14.3   \n",
       "4     15.0         0.0  0.000000  ...        NaN          NaN        NaN   \n",
       "\n",
       "   yri_meanage  yri_medianage  yri_mp30  yri_mp35  yri_mp40  yri_mp4160  \\\n",
       "0          NaN            NaN       NaN       NaN       NaN         NaN   \n",
       "1         51.0           51.0       0.0       5.8      15.9        72.5   \n",
       "2          NaN            NaN       NaN       NaN       NaN         NaN   \n",
       "3         48.2           48.5       3.6      14.3      17.9        71.4   \n",
       "4          NaN            NaN       NaN       NaN       NaN         NaN   \n",
       "\n",
       "   yri_mp61  \n",
       "0       NaN  \n",
       "1      11.6  \n",
       "2       NaN  \n",
       "3      10.7  \n",
       "4       NaN  \n",
       "\n",
       "[5 rows x 1641 columns]"
      ]
     },
     "execution_count": 55,
     "metadata": {},
     "output_type": "execute_result"
    }
   ],
   "source": [
    "# Importing packages\n",
    "import pandas as pd\n",
    "import numpy as np\n",
    "import matplotlib.pyplot as plt\n",
    "import seaborn as sns\n",
    "import statsmodels.api as sm\n",
    "import statsmodels.formula.api as smf \n",
    "\n",
    "#Grabbing Data\n",
    "url = 'https://www.qogdata.pol.gu.se/data/qog_std_cs_jan25.xlsx'\n",
    "df = pd.read_excel(url)\n",
    "\n",
    "#Visualize 5 first rows of data\n",
    "df.head()"
   ]
  },
  {
   "cell_type": "markdown",
   "id": "b793642a",
   "metadata": {},
   "source": [
    "<b> Question 2.1 </b> <br>\n",
    "Recode 2 different variables into new categories. They can both be continuous-ish or both be nominal-ish, or\n",
    "one of each. Tell me what you did and explain the variable(s)\n",
    "\n",
    "The 2 variables I want to recode is Serverity of Conflict and Human Development Index. From this data I expect to see some correlation with how servere the conflict is within a country, that could be one of the factors that explains the Human Development Infex of a Country. Either high conflict and Low HDI or low conflict and HDI production. "
   ]
  },
  {
   "cell_type": "code",
   "execution_count": 56,
   "id": "0bedae6f",
   "metadata": {
    "vscode": {
     "languageId": "ruby"
    }
   },
   "outputs": [
    {
     "data": {
      "text/plain": [
       "conflict_level\n",
       "NaN                 59\n",
       "Minor Conflict      57\n",
       "Major Conflict      54\n",
       "Servere Conflict    16\n",
       "No Conflict          8\n",
       "Name: count, dtype: int64"
      ]
     },
     "execution_count": 56,
     "metadata": {},
     "output_type": "execute_result"
    }
   ],
   "source": [
    "#First Variable\n",
    "#0-1 = No Conflict, 2-4 = Minor Conflict, 5-7 = Major Conflict, Servere Conflict\n",
    "conditions = [\n",
    "    (df['bti_ci'] <= 1),\n",
    "    (df['bti_ci'] >= 2) & (df['bti_ci'] <= 4),\n",
    "    (df['bti_ci'] >= 5) & (df['bti_ci'] <= 7),\n",
    "    (df['bti_ci'] >= 8) & (df['bti_ci'] <= 10)\n",
    "]\n",
    "choices = ['No Conflict', 'Minor Conflict', 'Major Conflict', 'Servere Conflict']\n",
    "df['conflict_level'] = np.select(conditions, choices, default=np.nan)\n",
    "\n",
    "# Ensure missings are treated as NaN\n",
    "df['conflict_level'] = df['conflict_level'].replace('nan', np.nan)\n",
    "\n",
    "#Order\n",
    "df['conflict_level'] = pd.Categorical(df['conflict_level'], categories=choices, ordered=True)\n",
    "\n",
    "#Preview output: \n",
    "df.conflict_level.value_counts(dropna=False)"
   ]
  },
  {
   "cell_type": "markdown",
   "id": "66b3ee42",
   "metadata": {},
   "source": [
    "We categorized each country based on a scale provide by QOG that dedicated what the scale of 1-10 represented for each country. This data comes from Bertelsmann Transformation Index, and measures how serious social ethnic and relgious conflicts are. \n",
    "\n",
    "Important to Note that we are missing data from 59 countries. That is more than I had antipicated. "
   ]
  },
  {
   "cell_type": "code",
   "execution_count": 57,
   "id": "a752d2c7",
   "metadata": {},
   "outputs": [
    {
     "data": {
      "text/plain": [
       "count    190.000000\n",
       "mean       0.719100\n",
       "std        0.153282\n",
       "min        0.380000\n",
       "25%        0.599250\n",
       "50%        0.737500\n",
       "75%        0.839000\n",
       "max        0.965000\n",
       "Name: undp_hdi, dtype: float64"
      ]
     },
     "execution_count": 57,
     "metadata": {},
     "output_type": "execute_result"
    }
   ],
   "source": [
    "#Second Variable\n",
    "df['undp_hdi'].describe()"
   ]
  },
  {
   "cell_type": "code",
   "execution_count": 58,
   "id": "a4de5520",
   "metadata": {},
   "outputs": [
    {
     "data": {
      "text/plain": [
       "hdi_level\n",
       "Medium HDI       49\n",
       "Low HDI          48\n",
       "Very High HDI    48\n",
       "High HDI         45\n",
       "NaN               4\n",
       "Name: count, dtype: int64"
      ]
     },
     "execution_count": 58,
     "metadata": {},
     "output_type": "execute_result"
    }
   ],
   "source": [
    "#Second Variable\n",
    "# # < 0.50 = Low ,0.50–0.7 = Medium, 0.7– 0.84 = High, ≥ 0.85 = Very High\n",
    "conditions = [\n",
    "    (df['undp_hdi'] < 0.6),\n",
    "    (df['undp_hdi'] >= 0.6) & (df['undp_hdi'] < 0.74),\n",
    "    (df['undp_hdi'] >= 0.74) & (df['undp_hdi'] < 0.84),\n",
    "    (df['undp_hdi'] >= 0.84)\n",
    "]\n",
    "\n",
    "choices = [\n",
    "    'Low HDI',\n",
    "    'Medium HDI',\n",
    "    'High HDI',\n",
    "    'Very High HDI'\n",
    "]\n",
    "df['hdi_level'] = np.select(conditions, choices, default=np.nan)\n",
    "\n",
    "# Ensure missings are treated as NaN\n",
    "df['hdi_level'] = df['hdi_level'].replace('nan', np.nan)\n",
    "\n",
    "df['hdi_level'] = pd.Categorical(df['hdi_level'], categories=choices, ordered=True)\n",
    "\n",
    "\n",
    "#Preview output: \n",
    "df.hdi_level.value_counts(dropna=False)\n"
   ]
  },
  {
   "cell_type": "markdown",
   "id": "41fba350",
   "metadata": {},
   "source": [
    "Utilizing df['undp_hdi'].describe(), we were able to split the data of HDI into 4 quartiles of categories based on the data. This does roughly correlate with the official values of the scale provided by the UN. I "
   ]
  },
  {
   "cell_type": "markdown",
   "id": "7b8b8fda",
   "metadata": {},
   "source": [
    "<b> Question 2.2 </b> <br>\n",
    "2-- Use one (or both) of your recoded variables to do a cross-tabulation. Explain your results."
   ]
  },
  {
   "cell_type": "code",
   "execution_count": 59,
   "id": "76a5b479",
   "metadata": {},
   "outputs": [
    {
     "data": {
      "text/html": [
       "<div>\n",
       "<style scoped>\n",
       "    .dataframe tbody tr th:only-of-type {\n",
       "        vertical-align: middle;\n",
       "    }\n",
       "\n",
       "    .dataframe tbody tr th {\n",
       "        vertical-align: top;\n",
       "    }\n",
       "\n",
       "    .dataframe thead th {\n",
       "        text-align: right;\n",
       "    }\n",
       "</style>\n",
       "<table border=\"1\" class=\"dataframe\">\n",
       "  <thead>\n",
       "    <tr style=\"text-align: right;\">\n",
       "      <th>hdi_level</th>\n",
       "      <th>Low HDI</th>\n",
       "      <th>Medium HDI</th>\n",
       "      <th>High HDI</th>\n",
       "      <th>Very High HDI</th>\n",
       "    </tr>\n",
       "    <tr>\n",
       "      <th>conflict_level</th>\n",
       "      <th></th>\n",
       "      <th></th>\n",
       "      <th></th>\n",
       "      <th></th>\n",
       "    </tr>\n",
       "  </thead>\n",
       "  <tbody>\n",
       "    <tr>\n",
       "      <th>No Conflict</th>\n",
       "      <td>0</td>\n",
       "      <td>2</td>\n",
       "      <td>3</td>\n",
       "      <td>3</td>\n",
       "    </tr>\n",
       "    <tr>\n",
       "      <th>Minor Conflict</th>\n",
       "      <td>11</td>\n",
       "      <td>15</td>\n",
       "      <td>16</td>\n",
       "      <td>13</td>\n",
       "    </tr>\n",
       "    <tr>\n",
       "      <th>Major Conflict</th>\n",
       "      <td>23</td>\n",
       "      <td>15</td>\n",
       "      <td>13</td>\n",
       "      <td>3</td>\n",
       "    </tr>\n",
       "    <tr>\n",
       "      <th>Servere Conflict</th>\n",
       "      <td>12</td>\n",
       "      <td>1</td>\n",
       "      <td>3</td>\n",
       "      <td>0</td>\n",
       "    </tr>\n",
       "  </tbody>\n",
       "</table>\n",
       "</div>"
      ],
      "text/plain": [
       "hdi_level         Low HDI  Medium HDI  High HDI  Very High HDI\n",
       "conflict_level                                                \n",
       "No Conflict             0           2         3              3\n",
       "Minor Conflict         11          15        16             13\n",
       "Major Conflict         23          15        13              3\n",
       "Servere Conflict       12           1         3              0"
      ]
     },
     "execution_count": 59,
     "metadata": {},
     "output_type": "execute_result"
    }
   ],
   "source": [
    "pd.crosstab(df['conflict_level'], df['hdi_level'], dropna=False)"
   ]
  },
  {
   "cell_type": "markdown",
   "id": "7c8b378c",
   "metadata": {},
   "source": [
    "When Cross tabulating the two variables, you can observe that the distrubution of conflict serverity decreases the higher the HDI is. This does makes sense as countries are more likely to be able to work towards a higher quality of life if there is no conflict or less conflict within their country. They are able to focus on improving quality of life rather than focusing on the matters that arise from having conflict within the country. "
   ]
  },
  {
   "cell_type": "markdown",
   "id": "55b3dc81",
   "metadata": {},
   "source": [
    "<b> Question 2.3 </b> <br>\n",
    "3-- Run a correlation of one variable with another variable; make all of the recodes necessary to make the\n",
    "correlation as easy to interpret as possible; and explain your results.\n",
    "\n",
    "We are will be using the World Uncertainty Index. To make the WUI comparable across countries, authors scale the raw counts by the total number of words in each report — the number of “uncertainty” words per thousand words."
   ]
  },
  {
   "cell_type": "code",
   "execution_count": 84,
   "id": "de71343a",
   "metadata": {},
   "outputs": [
    {
     "name": "stdout",
     "output_type": "stream",
     "text": [
      "Correlation between scaled BTI Civil Index and HDI: -0.523\n"
     ]
    }
   ],
   "source": [
    "# Recode variable 1 to match variable 2 scale\n",
    "df['bti_ci_scaled'] = df['bti_ci'] / 10\n",
    "\n",
    "# Drop missing values from both variables\n",
    "df_corr = df.dropna(subset=['bti_ci_scaled', 'undp_hdi'])\n",
    "\n",
    "# Pearson correlation undp_hdi\n",
    "correlation = df_corr['undp_hdi'].corr(df_corr['bti_ci_scaled'])\n",
    "print(f\"Correlation between scaled BTI Civil Index and HDI: {correlation:.3f}\")"
   ]
  },
  {
   "cell_type": "markdown",
   "id": "43100959",
   "metadata": {},
   "source": [
    "My correlation is -0.0.523. This tells me that there is a strong correlation between countries with higher conflict end to have a lower HDI. This would make sense based on the previous assumptions.  "
   ]
  },
  {
   "cell_type": "markdown",
   "id": "5f1ba65d",
   "metadata": {},
   "source": [
    "<b> Question 2.4 </b> <br>\n",
    "4-- Identify the most extreme cases on some variable. Interpret the results."
   ]
  },
  {
   "cell_type": "code",
   "execution_count": null,
   "id": "7d729549",
   "metadata": {},
   "outputs": [],
   "source": [
    "Based on Question 2.2, I was curious who were the three countries that had major conflict and a very high HDI"
   ]
  },
  {
   "cell_type": "code",
   "execution_count": 93,
   "id": "1b4a02f4",
   "metadata": {},
   "outputs": [
    {
     "data": {
      "text/html": [
       "<div>\n",
       "<style scoped>\n",
       "    .dataframe tbody tr th:only-of-type {\n",
       "        vertical-align: middle;\n",
       "    }\n",
       "\n",
       "    .dataframe tbody tr th {\n",
       "        vertical-align: top;\n",
       "    }\n",
       "\n",
       "    .dataframe thead th {\n",
       "        text-align: right;\n",
       "    }\n",
       "</style>\n",
       "<table border=\"1\" class=\"dataframe\">\n",
       "  <thead>\n",
       "    <tr style=\"text-align: right;\">\n",
       "      <th></th>\n",
       "      <th>cname</th>\n",
       "      <th>conflict_level</th>\n",
       "      <th>hdi_level</th>\n",
       "    </tr>\n",
       "  </thead>\n",
       "  <tbody>\n",
       "    <tr>\n",
       "      <th>11</th>\n",
       "      <td>Bahrain</td>\n",
       "      <td>Major Conflict</td>\n",
       "      <td>Very High HDI</td>\n",
       "    </tr>\n",
       "    <tr>\n",
       "      <th>35</th>\n",
       "      <td>Chile</td>\n",
       "      <td>Major Conflict</td>\n",
       "      <td>Very High HDI</td>\n",
       "    </tr>\n",
       "    <tr>\n",
       "      <th>176</th>\n",
       "      <td>Turkey</td>\n",
       "      <td>Major Conflict</td>\n",
       "      <td>Very High HDI</td>\n",
       "    </tr>\n",
       "  </tbody>\n",
       "</table>\n",
       "</div>"
      ],
      "text/plain": [
       "       cname  conflict_level      hdi_level\n",
       "11   Bahrain  Major Conflict  Very High HDI\n",
       "35     Chile  Major Conflict  Very High HDI\n",
       "176   Turkey  Major Conflict  Very High HDI"
      ]
     },
     "execution_count": 93,
     "metadata": {},
     "output_type": "execute_result"
    }
   ],
   "source": [
    "final_df = df[(df['conflict_level'] == 'Major Conflict') & (df['hdi_level'] == 'Very High HDI')]\n",
    "final_df[['cname', 'conflict_level', 'hdi_level']].head(10)"
   ]
  },
  {
   "cell_type": "markdown",
   "id": "bcd8b60b",
   "metadata": {},
   "source": [
    "Those three countries are Bahrain, Chile and Turkey. Sounds like i need to brush up on my news. "
   ]
  }
 ],
 "metadata": {
  "kernelspec": {
   "display_name": "base",
   "language": "python",
   "name": "python3"
  },
  "language_info": {
   "codemirror_mode": {
    "name": "ipython",
    "version": 3
   },
   "file_extension": ".py",
   "mimetype": "text/x-python",
   "name": "python",
   "nbconvert_exporter": "python",
   "pygments_lexer": "ipython3",
   "version": "3.11.5"
  }
 },
 "nbformat": 4,
 "nbformat_minor": 5
}
